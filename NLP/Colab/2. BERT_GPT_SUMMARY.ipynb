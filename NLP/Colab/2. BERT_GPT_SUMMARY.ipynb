{
 "cells": [
  {
   "cell_type": "code",
   "execution_count": 9,
   "id": "c632bfc2",
   "metadata": {},
   "outputs": [
    {
     "name": "stderr",
     "output_type": "stream",
     "text": [
      "2023-12-20 11:42:48.524026: I tensorflow/core/common_runtime/gpu/gpu_device.cc:1639] Created device /job:localhost/replica:0/task:0/device:GPU:0 with 4033 MB memory:  -> device: 0, name: NVIDIA A100-PCIE-40GB, pci bus id: 0000:3b:00.0, compute capability: 8.0\n",
      "2023-12-20 11:42:48.526485: I tensorflow/core/common_runtime/gpu/gpu_device.cc:1639] Created device /job:localhost/replica:0/task:0/device:GPU:1 with 4033 MB memory:  -> device: 1, name: NVIDIA A100-PCIE-40GB, pci bus id: 0000:5e:00.0, compute capability: 8.0\n",
      "2023-12-20 11:42:48.528649: I tensorflow/core/common_runtime/gpu/gpu_device.cc:1639] Created device /job:localhost/replica:0/task:0/device:GPU:2 with 4033 MB memory:  -> device: 2, name: NVIDIA A100-PCIE-40GB, pci bus id: 0000:86:00.0, compute capability: 8.0\n",
      "2023-12-20 11:42:48.530811: I tensorflow/core/common_runtime/gpu/gpu_device.cc:1639] Created device /job:localhost/replica:0/task:0/device:GPU:3 with 4033 MB memory:  -> device: 3, name: NVIDIA A100-PCIE-40GB, pci bus id: 0000:af:00.0, compute capability: 8.0\n"
     ]
    }
   ],
   "source": [
    "import os\n",
    "\n",
    "os.environ[\"CUDA_VISIBLE_DEVICES\"] = \"2\"\n",
    "config = tf1.ConfigProto()\n",
    "config.gpu_options.per_process_gpu_memory_fraction = 0.1\n",
    "session = tf1.Session(config=config)"
   ]
  },
  {
   "cell_type": "code",
   "execution_count": 158,
   "id": "8376e6b9",
   "metadata": {},
   "outputs": [],
   "source": [
    "import nltk\n",
    "from nltk.tokenize import word_tokenize\n",
    "from nltk.corpus import stopwords\n",
    "from rouge import Rouge\n",
    "from nltk.tokenize import sent_tokenize"
   ]
  },
  {
   "cell_type": "markdown",
   "id": "aed9d624",
   "metadata": {},
   "source": [
    "### 전처리"
   ]
  },
  {
   "cell_type": "code",
   "execution_count": 159,
   "id": "947f776f",
   "metadata": {},
   "outputs": [
    {
     "name": "stderr",
     "output_type": "stream",
     "text": [
      "[nltk_data] Downloading package punkt to /home/a202192010/nltk_data...\n",
      "[nltk_data]   Package punkt is already up-to-date!\n",
      "[nltk_data] Downloading package stopwords to\n",
      "[nltk_data]     /home/a202192010/nltk_data...\n",
      "[nltk_data]   Package stopwords is already up-to-date!\n"
     ]
    }
   ],
   "source": [
    "nltk.download('punkt')\n",
    "nltk.download('stopwords')\n",
    "\n",
    "# 불용어(stopwords) 목록 로드\n",
    "stop_words = set(stopwords.words('english'))"
   ]
  },
  {
   "cell_type": "code",
   "execution_count": 235,
   "id": "14c0dfb0",
   "metadata": {},
   "outputs": [],
   "source": [
    "# 뉴스 기사 전처리 함수\n",
    "from nltk.tokenize import sent_tokenize, word_tokenize\n",
    "from nltk.corpus import stopwords\n",
    "import string\n",
    "\n",
    "def preprocess_news_article(news_article):\n",
    "    # 문장 토큰화\n",
    "    sentences = sent_tokenize(news_article)\n",
    "\n",
    "    processed_sentences = []\n",
    "    for sentence in sentences:\n",
    "        # 문장 토큰화\n",
    "        tokens = word_tokenize(sentence)\n",
    "\n",
    "        # 특수문자 및 숫자 제거\n",
    "        tokens = [word.lower() for word in tokens if word.isalpha() or word not in string.punctuation]\n",
    "\n",
    "        # 토큰들을 다시 문장으로 결합\n",
    "        processed_text = ' '.join(tokens)\n",
    "\n",
    "        processed_sentences.append(processed_text)\n",
    "\n",
    "    return processed_sentences\n"
   ]
  },
  {
   "cell_type": "code",
   "execution_count": 236,
   "id": "3ef355eb",
   "metadata": {},
   "outputs": [],
   "source": [
    "# 예시 뉴스 기사\n",
    "\n",
    "NEWS_ARTICLE = \"The Daman and Diu administration on Wednesday withdrew a circular that asked women staff to tie rakhis on male colleagues after the order triggered a backlash from employees and was ripped apart on social media.The union territory?s administration was forced to retreat within 24 hours of issuing the circular that made it compulsory for its staff to celebrate Rakshabandhan at workplace.?It has been decided to celebrate the festival of Rakshabandhan on August 7. In this connection, all offices/ departments shall remain open and celebrate the festival collectively at a suitable time wherein all the lady staff shall tie rakhis to their colleagues,? the order, issued on August 1 by Gurpreet Singh, deputy secretary (personnel), had said.To ensure that no one skipped office, an attendance report was to be sent to the government the next evening.The two notifications ? one mandating the celebration of Rakshabandhan (left) and the other withdrawing the mandate (right) ? were issued by the Daman and Diu administration a day apart. The circular was withdrawn through a one-line order issued late in the evening by the UT?s department of personnel and administrative reforms.?The circular is ridiculous. There are sensitivities involved. How can the government dictate who I should tie rakhi to? We should maintain the professionalism of a workplace? an official told Hindustan Times earlier in the day. She refused to be identified.The notice was issued on Daman and Diu administrator and former Gujarat home minister Praful Kodabhai Patel?s direction, sources said.Rakshabandhan, a celebration of the bond between brothers and sisters, is one of several Hindu festivities and rituals that are no longer confined of private, family affairs but have become tools to push politic al ideologies.In 2014, the year BJP stormed to power at the Centre, Rashtriya Swayamsevak Sangh (RSS) chief Mohan Bhagwat said the festival had ?national significance? and should be celebrated widely ?to protect Hindu culture and live by the values enshrined in it?. The RSS is the ideological parent of the ruling BJP.Last year, women ministers in the Modi government went to the border areas to celebrate the festival with soldiers. A year before, all cabinet ministers were asked to go to their constituencies for the festival.\"\n"
   ]
  },
  {
   "cell_type": "code",
   "execution_count": 357,
   "id": "e4eac661",
   "metadata": {},
   "outputs": [
    {
     "name": "stdout",
     "output_type": "stream",
     "text": [
      "전처리된 기사: ['the daman and diu administration on wednesday withdrew a circular that asked women staff to tie rakhis on male colleagues after the order triggered a backlash from employees and was ripped apart on social media.the union territory s administration was forced to retreat within 24 hours of issuing the circular that made it compulsory for its staff to celebrate rakshabandhan at workplace', 'it has been decided to celebrate the festival of rakshabandhan on august 7', 'in this connection all offices/ departments shall remain open and celebrate the festival collectively at a suitable time wherein all the lady staff shall tie rakhis to their colleagues', 'the order issued on august 1 by gurpreet singh deputy secretary personnel had said.to ensure that no one skipped office an attendance report was to be sent to the government the next evening.the two notifications', 'one mandating the celebration of rakshabandhan left and the other withdrawing the mandate right', 'were issued by the daman and diu administration a day apart', 'the circular was withdrawn through a one-line order issued late in the evening by the ut s department of personnel and administrative reforms', 'the circular is ridiculous', 'there are sensitivities involved', 'how can the government dictate who i should tie rakhi to', 'we should maintain the professionalism of a workplace', 'an official told hindustan times earlier in the day', 'she refused to be identified.the notice was issued on daman and diu administrator and former gujarat home minister praful kodabhai patel s direction sources said.rakshabandhan a celebration of the bond between brothers and sisters is one of several hindu festivities and rituals that are no longer confined of private family affairs but have become tools to push politic al ideologies.in 2014 the year bjp stormed to power at the centre rashtriya swayamsevak sangh rss chief mohan bhagwat said the festival had national significance', 'and should be celebrated widely to protect hindu culture and live by the values enshrined in it', 'the rss is the ideological parent of the ruling bjp.last year women ministers in the modi government went to the border areas to celebrate the festival with soldiers', 'a year before all cabinet ministers were asked to go to their constituencies for the festival']\n"
     ]
    }
   ],
   "source": [
    "# 뉴스 기사 전처리\n",
    "processed_article = preprocess_news_article(NEWS_ARTICLE)\n",
    "print(\"전처리된 기사:\", processed_article)"
   ]
  },
  {
   "cell_type": "markdown",
   "id": "6a64a16f",
   "metadata": {},
   "source": [
    "### BERT"
   ]
  },
  {
   "cell_type": "code",
   "execution_count": 238,
   "id": "ba71b11d",
   "metadata": {},
   "outputs": [],
   "source": [
    "import torch\n",
    "from transformers import BertTokenizer, BertModel\n",
    "from nltk.tokenize import sent_tokenize"
   ]
  },
  {
   "cell_type": "code",
   "execution_count": 82,
   "id": "9696cbd0",
   "metadata": {},
   "outputs": [
    {
     "name": "stderr",
     "output_type": "stream",
     "text": [
      "config.json: 100%|██████████| 570/570 [00:00<00:00, 65.7kB/s]\n",
      "model.safetensors: 100%|██████████| 440M/440M [00:24<00:00, 18.2MB/s] \n",
      "tokenizer_config.json: 100%|██████████| 28.0/28.0 [00:00<00:00, 2.82kB/s]\n",
      "vocab.txt: 100%|██████████| 232k/232k [00:00<00:00, 601kB/s]\n",
      "tokenizer.json: 100%|██████████| 466k/466k [00:00<00:00, 680kB/s]\n"
     ]
    }
   ],
   "source": [
    "# BERT 모델 및 토크나이저 로드\n",
    "bert_model = BertModel.from_pretrained('bert-base-uncased')\n",
    "bert_tokenizer = BertTokenizer.from_pretrained('bert-base-uncased')"
   ]
  },
  {
   "cell_type": "code",
   "execution_count": 358,
   "id": "f3a82781",
   "metadata": {
    "scrolled": true
   },
   "outputs": [
    {
     "data": {
      "text/plain": [
       "[[0,\n",
       "  627,\n",
       "  9656,\n",
       "  260,\n",
       "  8,\n",
       "  2269,\n",
       "  257,\n",
       "  942,\n",
       "  15,\n",
       "  18862,\n",
       "  46836,\n",
       "  13666,\n",
       "  10,\n",
       "  18629,\n",
       "  14,\n",
       "  553,\n",
       "  390,\n",
       "  813,\n",
       "  7,\n",
       "  3318,\n",
       "  910,\n",
       "  7352,\n",
       "  354,\n",
       "  15,\n",
       "  2943,\n",
       "  4025,\n",
       "  71,\n",
       "  5,\n",
       "  645,\n",
       "  7544,\n",
       "  10,\n",
       "  10279,\n",
       "  31,\n",
       "  1321,\n",
       "  8,\n",
       "  21,\n",
       "  12256,\n",
       "  4102,\n",
       "  15,\n",
       "  592,\n",
       "  433,\n",
       "  4,\n",
       "  627,\n",
       "  2918,\n",
       "  4284,\n",
       "  579,\n",
       "  942,\n",
       "  21,\n",
       "  1654,\n",
       "  7,\n",
       "  11298,\n",
       "  624,\n",
       "  706,\n",
       "  722,\n",
       "  9,\n",
       "  10392,\n",
       "  5,\n",
       "  18629,\n",
       "  14,\n",
       "  156,\n",
       "  24,\n",
       "  25707,\n",
       "  13,\n",
       "  63,\n",
       "  813,\n",
       "  7,\n",
       "  3379,\n",
       "  910,\n",
       "  677,\n",
       "  1193,\n",
       "  31865,\n",
       "  4134,\n",
       "  23,\n",
       "  7637,\n",
       "  2],\n",
       " [0,\n",
       "  405,\n",
       "  34,\n",
       "  57,\n",
       "  1276,\n",
       "  7,\n",
       "  3379,\n",
       "  5,\n",
       "  3241,\n",
       "  9,\n",
       "  910,\n",
       "  677,\n",
       "  1193,\n",
       "  31865,\n",
       "  4134,\n",
       "  15,\n",
       "  26713,\n",
       "  4193,\n",
       "  262,\n",
       "  2],\n",
       " [0,\n",
       "  179,\n",
       "  42,\n",
       "  2748,\n",
       "  70,\n",
       "  4088,\n",
       "  73,\n",
       "  6522,\n",
       "  5658,\n",
       "  1091,\n",
       "  490,\n",
       "  8,\n",
       "  3379,\n",
       "  5,\n",
       "  3241,\n",
       "  14332,\n",
       "  23,\n",
       "  10,\n",
       "  10686,\n",
       "  86,\n",
       "  26134,\n",
       "  70,\n",
       "  5,\n",
       "  6429,\n",
       "  813,\n",
       "  5658,\n",
       "  3318,\n",
       "  910,\n",
       "  7352,\n",
       "  354,\n",
       "  7,\n",
       "  49,\n",
       "  4025,\n",
       "  2],\n",
       " [0,\n",
       "  627,\n",
       "  645,\n",
       "  1167,\n",
       "  15,\n",
       "  26713,\n",
       "  4193,\n",
       "  112,\n",
       "  30,\n",
       "  821,\n",
       "  710,\n",
       "  642,\n",
       "  14081,\n",
       "  7884,\n",
       "  298,\n",
       "  3193,\n",
       "  2971,\n",
       "  3775,\n",
       "  56,\n",
       "  26,\n",
       "  4,\n",
       "  560,\n",
       "  1306,\n",
       "  14,\n",
       "  117,\n",
       "  65,\n",
       "  22904,\n",
       "  558,\n",
       "  41,\n",
       "  6856,\n",
       "  266,\n",
       "  21,\n",
       "  7,\n",
       "  28,\n",
       "  1051,\n",
       "  7,\n",
       "  5,\n",
       "  168,\n",
       "  5,\n",
       "  220,\n",
       "  1559,\n",
       "  4,\n",
       "  627,\n",
       "  80,\n",
       "  16926,\n",
       "  2],\n",
       " [0,\n",
       "  1264,\n",
       "  17047,\n",
       "  1295,\n",
       "  5,\n",
       "  4821,\n",
       "  9,\n",
       "  910,\n",
       "  677,\n",
       "  1193,\n",
       "  31865,\n",
       "  4134,\n",
       "  314,\n",
       "  8,\n",
       "  5,\n",
       "  97,\n",
       "  20049,\n",
       "  5,\n",
       "  7184,\n",
       "  235,\n",
       "  2],\n",
       " [0, 17341, 1167, 30, 5, 9656, 260, 8, 2269, 257, 942, 10, 183, 4102, 2],\n",
       " [0,\n",
       "  627,\n",
       "  18629,\n",
       "  21,\n",
       "  13375,\n",
       "  149,\n",
       "  10,\n",
       "  65,\n",
       "  12,\n",
       "  1902,\n",
       "  645,\n",
       "  1167,\n",
       "  628,\n",
       "  11,\n",
       "  5,\n",
       "  1559,\n",
       "  30,\n",
       "  5,\n",
       "  16080,\n",
       "  579,\n",
       "  1494,\n",
       "  9,\n",
       "  3775,\n",
       "  8,\n",
       "  6833,\n",
       "  4907,\n",
       "  2],\n",
       " [0, 627, 18629, 16, 10861, 2],\n",
       " [0, 8585, 32, 28195, 34201, 963, 2],\n",
       " [0, 9178, 64, 5, 168, 22203, 54, 939, 197, 3318, 910, 677, 3592, 7, 2],\n",
       " [0, 1694, 197, 3014, 5, 23210, 9, 10, 7637, 2],\n",
       " [0, 260, 781, 174, 16175, 4193, 260, 498, 656, 11, 5, 183, 2],\n",
       " [0,\n",
       "  8877,\n",
       "  3179,\n",
       "  7,\n",
       "  28,\n",
       "  2006,\n",
       "  4,\n",
       "  627,\n",
       "  3120,\n",
       "  21,\n",
       "  1167,\n",
       "  15,\n",
       "  9656,\n",
       "  260,\n",
       "  8,\n",
       "  2269,\n",
       "  257,\n",
       "  11417,\n",
       "  8,\n",
       "  320,\n",
       "  11843,\n",
       "  11978,\n",
       "  415,\n",
       "  184,\n",
       "  1269,\n",
       "  21950,\n",
       "  2650,\n",
       "  449,\n",
       "  1630,\n",
       "  873,\n",
       "  30279,\n",
       "  181,\n",
       "  26591,\n",
       "  579,\n",
       "  2698,\n",
       "  1715,\n",
       "  26,\n",
       "  4,\n",
       "  763,\n",
       "  2258,\n",
       "  13899,\n",
       "  463,\n",
       "  4134,\n",
       "  10,\n",
       "  4821,\n",
       "  9,\n",
       "  5,\n",
       "  2175,\n",
       "  227,\n",
       "  5396,\n",
       "  8,\n",
       "  7502,\n",
       "  16,\n",
       "  65,\n",
       "  9,\n",
       "  484,\n",
       "  1368,\n",
       "  36232,\n",
       "  15972,\n",
       "  8,\n",
       "  27830,\n",
       "  14,\n",
       "  32,\n",
       "  117,\n",
       "  1181,\n",
       "  18687,\n",
       "  9,\n",
       "  940,\n",
       "  284,\n",
       "  5185,\n",
       "  53,\n",
       "  33,\n",
       "  555,\n",
       "  3270,\n",
       "  7,\n",
       "  1920,\n",
       "  19599,\n",
       "  1076,\n",
       "  35380,\n",
       "  4,\n",
       "  179,\n",
       "  777,\n",
       "  5,\n",
       "  76,\n",
       "  741,\n",
       "  34897,\n",
       "  16965,\n",
       "  7,\n",
       "  476,\n",
       "  23,\n",
       "  5,\n",
       "  2100,\n",
       "  21563,\n",
       "  21237,\n",
       "  2636,\n",
       "  17980,\n",
       "  424,\n",
       "  1090,\n",
       "  705,\n",
       "  677,\n",
       "  15610,\n",
       "  4147,\n",
       "  910,\n",
       "  7485,\n",
       "  834,\n",
       "  475,\n",
       "  14669,\n",
       "  741,\n",
       "  298,\n",
       "  1073,\n",
       "  24749,\n",
       "  26,\n",
       "  5,\n",
       "  3241,\n",
       "  56,\n",
       "  632,\n",
       "  11382,\n",
       "  2],\n",
       " [0,\n",
       "  463,\n",
       "  197,\n",
       "  28,\n",
       "  5417,\n",
       "  3924,\n",
       "  7,\n",
       "  1744,\n",
       "  1368,\n",
       "  36232,\n",
       "  2040,\n",
       "  8,\n",
       "  697,\n",
       "  30,\n",
       "  5,\n",
       "  3266,\n",
       "  29376,\n",
       "  6158,\n",
       "  11,\n",
       "  24,\n",
       "  2],\n",
       " [0,\n",
       "  627,\n",
       "  910,\n",
       "  7485,\n",
       "  16,\n",
       "  5,\n",
       "  18273,\n",
       "  4095,\n",
       "  9,\n",
       "  5,\n",
       "  2255,\n",
       "  741,\n",
       "  34897,\n",
       "  4,\n",
       "  13751,\n",
       "  76,\n",
       "  390,\n",
       "  5118,\n",
       "  11,\n",
       "  5,\n",
       "  11134,\n",
       "  118,\n",
       "  168,\n",
       "  439,\n",
       "  7,\n",
       "  5,\n",
       "  1424,\n",
       "  911,\n",
       "  7,\n",
       "  3379,\n",
       "  5,\n",
       "  3241,\n",
       "  19,\n",
       "  3878,\n",
       "  2],\n",
       " [0,\n",
       "  102,\n",
       "  76,\n",
       "  137,\n",
       "  70,\n",
       "  5892,\n",
       "  5118,\n",
       "  58,\n",
       "  553,\n",
       "  7,\n",
       "  213,\n",
       "  7,\n",
       "  49,\n",
       "  22449,\n",
       "  13,\n",
       "  5,\n",
       "  3241,\n",
       "  2]]"
      ]
     },
     "execution_count": 358,
     "metadata": {},
     "output_type": "execute_result"
    }
   ],
   "source": [
    "# 토크나이저\n",
    "tokenized_sentences = [tokenizer.encode(sent, add_special_tokens=True) for sent in processed_article]\n",
    "tokenized_sentences"
   ]
  },
  {
   "cell_type": "code",
   "execution_count": 359,
   "id": "27fcf56b",
   "metadata": {
    "scrolled": true
   },
   "outputs": [
    {
     "data": {
      "text/plain": [
       "tensor([[   0,  627, 9656,  ...,    0,    0,    0],\n",
       "        [   0,  405,   34,  ...,    0,    0,    0],\n",
       "        [   0,  179,   42,  ...,    0,    0,    0],\n",
       "        ...,\n",
       "        [   0,  463,  197,  ...,    0,    0,    0],\n",
       "        [   0,  627,  910,  ...,    0,    0,    0],\n",
       "        [   0,  102,   76,  ...,    0,    0,    0]])"
      ]
     },
     "execution_count": 359,
     "metadata": {},
     "output_type": "execute_result"
    }
   ],
   "source": [
    "# 최대 길이 구하기\n",
    "max_len = 0\n",
    "for i in tokenized_sentences:\n",
    "    if len(i) > max_len:\n",
    "        max_len = len(i)\n",
    "\n",
    "# 패딩된 문장들\n",
    "padded_sentences = []\n",
    "for i in tokenized_sentences:\n",
    "    # 최대 길이에 도달할 때까지 0으로 패딩\n",
    "    while len(i) < max_len:\n",
    "        i.append(0)\n",
    "    padded_sentences.append(i)\n",
    "\n",
    "# PyTorch 텐서로 변환\n",
    "input_ids = torch.tensor(padded_sentences)\n",
    "input_ids"
   ]
  },
  {
   "cell_type": "code",
   "execution_count": 360,
   "id": "b6d107b3",
   "metadata": {},
   "outputs": [
    {
     "data": {
      "text/plain": [
       "torch.Size([16, 118])"
      ]
     },
     "execution_count": 360,
     "metadata": {},
     "output_type": "execute_result"
    }
   ],
   "source": [
    "input_ids.size()"
   ]
  },
  {
   "cell_type": "code",
   "execution_count": 361,
   "id": "b5ea4da6",
   "metadata": {},
   "outputs": [
    {
     "data": {
      "text/plain": [
       "BertModel(\n",
       "  (embeddings): BertEmbeddings(\n",
       "    (word_embeddings): Embedding(30522, 768, padding_idx=0)\n",
       "    (position_embeddings): Embedding(512, 768)\n",
       "    (token_type_embeddings): Embedding(2, 768)\n",
       "    (LayerNorm): LayerNorm((768,), eps=1e-12, elementwise_affine=True)\n",
       "    (dropout): Dropout(p=0.1, inplace=False)\n",
       "  )\n",
       "  (encoder): BertEncoder(\n",
       "    (layer): ModuleList(\n",
       "      (0): BertLayer(\n",
       "        (attention): BertAttention(\n",
       "          (self): BertSelfAttention(\n",
       "            (query): Linear(in_features=768, out_features=768, bias=True)\n",
       "            (key): Linear(in_features=768, out_features=768, bias=True)\n",
       "            (value): Linear(in_features=768, out_features=768, bias=True)\n",
       "            (dropout): Dropout(p=0.1, inplace=False)\n",
       "          )\n",
       "          (output): BertSelfOutput(\n",
       "            (dense): Linear(in_features=768, out_features=768, bias=True)\n",
       "            (LayerNorm): LayerNorm((768,), eps=1e-12, elementwise_affine=True)\n",
       "            (dropout): Dropout(p=0.1, inplace=False)\n",
       "          )\n",
       "        )\n",
       "        (intermediate): BertIntermediate(\n",
       "          (dense): Linear(in_features=768, out_features=3072, bias=True)\n",
       "          (intermediate_act_fn): GELUActivation()\n",
       "        )\n",
       "        (output): BertOutput(\n",
       "          (dense): Linear(in_features=3072, out_features=768, bias=True)\n",
       "          (LayerNorm): LayerNorm((768,), eps=1e-12, elementwise_affine=True)\n",
       "          (dropout): Dropout(p=0.1, inplace=False)\n",
       "        )\n",
       "      )\n",
       "      (1): BertLayer(\n",
       "        (attention): BertAttention(\n",
       "          (self): BertSelfAttention(\n",
       "            (query): Linear(in_features=768, out_features=768, bias=True)\n",
       "            (key): Linear(in_features=768, out_features=768, bias=True)\n",
       "            (value): Linear(in_features=768, out_features=768, bias=True)\n",
       "            (dropout): Dropout(p=0.1, inplace=False)\n",
       "          )\n",
       "          (output): BertSelfOutput(\n",
       "            (dense): Linear(in_features=768, out_features=768, bias=True)\n",
       "            (LayerNorm): LayerNorm((768,), eps=1e-12, elementwise_affine=True)\n",
       "            (dropout): Dropout(p=0.1, inplace=False)\n",
       "          )\n",
       "        )\n",
       "        (intermediate): BertIntermediate(\n",
       "          (dense): Linear(in_features=768, out_features=3072, bias=True)\n",
       "          (intermediate_act_fn): GELUActivation()\n",
       "        )\n",
       "        (output): BertOutput(\n",
       "          (dense): Linear(in_features=3072, out_features=768, bias=True)\n",
       "          (LayerNorm): LayerNorm((768,), eps=1e-12, elementwise_affine=True)\n",
       "          (dropout): Dropout(p=0.1, inplace=False)\n",
       "        )\n",
       "      )\n",
       "      (2): BertLayer(\n",
       "        (attention): BertAttention(\n",
       "          (self): BertSelfAttention(\n",
       "            (query): Linear(in_features=768, out_features=768, bias=True)\n",
       "            (key): Linear(in_features=768, out_features=768, bias=True)\n",
       "            (value): Linear(in_features=768, out_features=768, bias=True)\n",
       "            (dropout): Dropout(p=0.1, inplace=False)\n",
       "          )\n",
       "          (output): BertSelfOutput(\n",
       "            (dense): Linear(in_features=768, out_features=768, bias=True)\n",
       "            (LayerNorm): LayerNorm((768,), eps=1e-12, elementwise_affine=True)\n",
       "            (dropout): Dropout(p=0.1, inplace=False)\n",
       "          )\n",
       "        )\n",
       "        (intermediate): BertIntermediate(\n",
       "          (dense): Linear(in_features=768, out_features=3072, bias=True)\n",
       "          (intermediate_act_fn): GELUActivation()\n",
       "        )\n",
       "        (output): BertOutput(\n",
       "          (dense): Linear(in_features=3072, out_features=768, bias=True)\n",
       "          (LayerNorm): LayerNorm((768,), eps=1e-12, elementwise_affine=True)\n",
       "          (dropout): Dropout(p=0.1, inplace=False)\n",
       "        )\n",
       "      )\n",
       "      (3): BertLayer(\n",
       "        (attention): BertAttention(\n",
       "          (self): BertSelfAttention(\n",
       "            (query): Linear(in_features=768, out_features=768, bias=True)\n",
       "            (key): Linear(in_features=768, out_features=768, bias=True)\n",
       "            (value): Linear(in_features=768, out_features=768, bias=True)\n",
       "            (dropout): Dropout(p=0.1, inplace=False)\n",
       "          )\n",
       "          (output): BertSelfOutput(\n",
       "            (dense): Linear(in_features=768, out_features=768, bias=True)\n",
       "            (LayerNorm): LayerNorm((768,), eps=1e-12, elementwise_affine=True)\n",
       "            (dropout): Dropout(p=0.1, inplace=False)\n",
       "          )\n",
       "        )\n",
       "        (intermediate): BertIntermediate(\n",
       "          (dense): Linear(in_features=768, out_features=3072, bias=True)\n",
       "          (intermediate_act_fn): GELUActivation()\n",
       "        )\n",
       "        (output): BertOutput(\n",
       "          (dense): Linear(in_features=3072, out_features=768, bias=True)\n",
       "          (LayerNorm): LayerNorm((768,), eps=1e-12, elementwise_affine=True)\n",
       "          (dropout): Dropout(p=0.1, inplace=False)\n",
       "        )\n",
       "      )\n",
       "      (4): BertLayer(\n",
       "        (attention): BertAttention(\n",
       "          (self): BertSelfAttention(\n",
       "            (query): Linear(in_features=768, out_features=768, bias=True)\n",
       "            (key): Linear(in_features=768, out_features=768, bias=True)\n",
       "            (value): Linear(in_features=768, out_features=768, bias=True)\n",
       "            (dropout): Dropout(p=0.1, inplace=False)\n",
       "          )\n",
       "          (output): BertSelfOutput(\n",
       "            (dense): Linear(in_features=768, out_features=768, bias=True)\n",
       "            (LayerNorm): LayerNorm((768,), eps=1e-12, elementwise_affine=True)\n",
       "            (dropout): Dropout(p=0.1, inplace=False)\n",
       "          )\n",
       "        )\n",
       "        (intermediate): BertIntermediate(\n",
       "          (dense): Linear(in_features=768, out_features=3072, bias=True)\n",
       "          (intermediate_act_fn): GELUActivation()\n",
       "        )\n",
       "        (output): BertOutput(\n",
       "          (dense): Linear(in_features=3072, out_features=768, bias=True)\n",
       "          (LayerNorm): LayerNorm((768,), eps=1e-12, elementwise_affine=True)\n",
       "          (dropout): Dropout(p=0.1, inplace=False)\n",
       "        )\n",
       "      )\n",
       "      (5): BertLayer(\n",
       "        (attention): BertAttention(\n",
       "          (self): BertSelfAttention(\n",
       "            (query): Linear(in_features=768, out_features=768, bias=True)\n",
       "            (key): Linear(in_features=768, out_features=768, bias=True)\n",
       "            (value): Linear(in_features=768, out_features=768, bias=True)\n",
       "            (dropout): Dropout(p=0.1, inplace=False)\n",
       "          )\n",
       "          (output): BertSelfOutput(\n",
       "            (dense): Linear(in_features=768, out_features=768, bias=True)\n",
       "            (LayerNorm): LayerNorm((768,), eps=1e-12, elementwise_affine=True)\n",
       "            (dropout): Dropout(p=0.1, inplace=False)\n",
       "          )\n",
       "        )\n",
       "        (intermediate): BertIntermediate(\n",
       "          (dense): Linear(in_features=768, out_features=3072, bias=True)\n",
       "          (intermediate_act_fn): GELUActivation()\n",
       "        )\n",
       "        (output): BertOutput(\n",
       "          (dense): Linear(in_features=3072, out_features=768, bias=True)\n",
       "          (LayerNorm): LayerNorm((768,), eps=1e-12, elementwise_affine=True)\n",
       "          (dropout): Dropout(p=0.1, inplace=False)\n",
       "        )\n",
       "      )\n",
       "      (6): BertLayer(\n",
       "        (attention): BertAttention(\n",
       "          (self): BertSelfAttention(\n",
       "            (query): Linear(in_features=768, out_features=768, bias=True)\n",
       "            (key): Linear(in_features=768, out_features=768, bias=True)\n",
       "            (value): Linear(in_features=768, out_features=768, bias=True)\n",
       "            (dropout): Dropout(p=0.1, inplace=False)\n",
       "          )\n",
       "          (output): BertSelfOutput(\n",
       "            (dense): Linear(in_features=768, out_features=768, bias=True)\n",
       "            (LayerNorm): LayerNorm((768,), eps=1e-12, elementwise_affine=True)\n",
       "            (dropout): Dropout(p=0.1, inplace=False)\n",
       "          )\n",
       "        )\n",
       "        (intermediate): BertIntermediate(\n",
       "          (dense): Linear(in_features=768, out_features=3072, bias=True)\n",
       "          (intermediate_act_fn): GELUActivation()\n",
       "        )\n",
       "        (output): BertOutput(\n",
       "          (dense): Linear(in_features=3072, out_features=768, bias=True)\n",
       "          (LayerNorm): LayerNorm((768,), eps=1e-12, elementwise_affine=True)\n",
       "          (dropout): Dropout(p=0.1, inplace=False)\n",
       "        )\n",
       "      )\n",
       "      (7): BertLayer(\n",
       "        (attention): BertAttention(\n",
       "          (self): BertSelfAttention(\n",
       "            (query): Linear(in_features=768, out_features=768, bias=True)\n",
       "            (key): Linear(in_features=768, out_features=768, bias=True)\n",
       "            (value): Linear(in_features=768, out_features=768, bias=True)\n",
       "            (dropout): Dropout(p=0.1, inplace=False)\n",
       "          )\n",
       "          (output): BertSelfOutput(\n",
       "            (dense): Linear(in_features=768, out_features=768, bias=True)\n",
       "            (LayerNorm): LayerNorm((768,), eps=1e-12, elementwise_affine=True)\n",
       "            (dropout): Dropout(p=0.1, inplace=False)\n",
       "          )\n",
       "        )\n",
       "        (intermediate): BertIntermediate(\n",
       "          (dense): Linear(in_features=768, out_features=3072, bias=True)\n",
       "          (intermediate_act_fn): GELUActivation()\n",
       "        )\n",
       "        (output): BertOutput(\n",
       "          (dense): Linear(in_features=3072, out_features=768, bias=True)\n",
       "          (LayerNorm): LayerNorm((768,), eps=1e-12, elementwise_affine=True)\n",
       "          (dropout): Dropout(p=0.1, inplace=False)\n",
       "        )\n",
       "      )\n",
       "      (8): BertLayer(\n",
       "        (attention): BertAttention(\n",
       "          (self): BertSelfAttention(\n",
       "            (query): Linear(in_features=768, out_features=768, bias=True)\n",
       "            (key): Linear(in_features=768, out_features=768, bias=True)\n",
       "            (value): Linear(in_features=768, out_features=768, bias=True)\n",
       "            (dropout): Dropout(p=0.1, inplace=False)\n",
       "          )\n",
       "          (output): BertSelfOutput(\n",
       "            (dense): Linear(in_features=768, out_features=768, bias=True)\n",
       "            (LayerNorm): LayerNorm((768,), eps=1e-12, elementwise_affine=True)\n",
       "            (dropout): Dropout(p=0.1, inplace=False)\n",
       "          )\n",
       "        )\n",
       "        (intermediate): BertIntermediate(\n",
       "          (dense): Linear(in_features=768, out_features=3072, bias=True)\n",
       "          (intermediate_act_fn): GELUActivation()\n",
       "        )\n",
       "        (output): BertOutput(\n",
       "          (dense): Linear(in_features=3072, out_features=768, bias=True)\n",
       "          (LayerNorm): LayerNorm((768,), eps=1e-12, elementwise_affine=True)\n",
       "          (dropout): Dropout(p=0.1, inplace=False)\n",
       "        )\n",
       "      )\n",
       "      (9): BertLayer(\n",
       "        (attention): BertAttention(\n",
       "          (self): BertSelfAttention(\n",
       "            (query): Linear(in_features=768, out_features=768, bias=True)\n",
       "            (key): Linear(in_features=768, out_features=768, bias=True)\n",
       "            (value): Linear(in_features=768, out_features=768, bias=True)\n",
       "            (dropout): Dropout(p=0.1, inplace=False)\n",
       "          )\n",
       "          (output): BertSelfOutput(\n",
       "            (dense): Linear(in_features=768, out_features=768, bias=True)\n",
       "            (LayerNorm): LayerNorm((768,), eps=1e-12, elementwise_affine=True)\n",
       "            (dropout): Dropout(p=0.1, inplace=False)\n",
       "          )\n",
       "        )\n",
       "        (intermediate): BertIntermediate(\n",
       "          (dense): Linear(in_features=768, out_features=3072, bias=True)\n",
       "          (intermediate_act_fn): GELUActivation()\n",
       "        )\n",
       "        (output): BertOutput(\n",
       "          (dense): Linear(in_features=3072, out_features=768, bias=True)\n",
       "          (LayerNorm): LayerNorm((768,), eps=1e-12, elementwise_affine=True)\n",
       "          (dropout): Dropout(p=0.1, inplace=False)\n",
       "        )\n",
       "      )\n",
       "      (10): BertLayer(\n",
       "        (attention): BertAttention(\n",
       "          (self): BertSelfAttention(\n",
       "            (query): Linear(in_features=768, out_features=768, bias=True)\n",
       "            (key): Linear(in_features=768, out_features=768, bias=True)\n",
       "            (value): Linear(in_features=768, out_features=768, bias=True)\n",
       "            (dropout): Dropout(p=0.1, inplace=False)\n",
       "          )\n",
       "          (output): BertSelfOutput(\n",
       "            (dense): Linear(in_features=768, out_features=768, bias=True)\n",
       "            (LayerNorm): LayerNorm((768,), eps=1e-12, elementwise_affine=True)\n",
       "            (dropout): Dropout(p=0.1, inplace=False)\n",
       "          )\n",
       "        )\n",
       "        (intermediate): BertIntermediate(\n",
       "          (dense): Linear(in_features=768, out_features=3072, bias=True)\n",
       "          (intermediate_act_fn): GELUActivation()\n",
       "        )\n",
       "        (output): BertOutput(\n",
       "          (dense): Linear(in_features=3072, out_features=768, bias=True)\n",
       "          (LayerNorm): LayerNorm((768,), eps=1e-12, elementwise_affine=True)\n",
       "          (dropout): Dropout(p=0.1, inplace=False)\n",
       "        )\n",
       "      )\n",
       "      (11): BertLayer(\n",
       "        (attention): BertAttention(\n",
       "          (self): BertSelfAttention(\n",
       "            (query): Linear(in_features=768, out_features=768, bias=True)\n",
       "            (key): Linear(in_features=768, out_features=768, bias=True)\n",
       "            (value): Linear(in_features=768, out_features=768, bias=True)\n",
       "            (dropout): Dropout(p=0.1, inplace=False)\n",
       "          )\n",
       "          (output): BertSelfOutput(\n",
       "            (dense): Linear(in_features=768, out_features=768, bias=True)\n",
       "            (LayerNorm): LayerNorm((768,), eps=1e-12, elementwise_affine=True)\n",
       "            (dropout): Dropout(p=0.1, inplace=False)\n",
       "          )\n",
       "        )\n",
       "        (intermediate): BertIntermediate(\n",
       "          (dense): Linear(in_features=768, out_features=3072, bias=True)\n",
       "          (intermediate_act_fn): GELUActivation()\n",
       "        )\n",
       "        (output): BertOutput(\n",
       "          (dense): Linear(in_features=3072, out_features=768, bias=True)\n",
       "          (LayerNorm): LayerNorm((768,), eps=1e-12, elementwise_affine=True)\n",
       "          (dropout): Dropout(p=0.1, inplace=False)\n",
       "        )\n",
       "      )\n",
       "    )\n",
       "  )\n",
       "  (pooler): BertPooler(\n",
       "    (dense): Linear(in_features=768, out_features=768, bias=True)\n",
       "    (activation): Tanh()\n",
       "  )\n",
       ")"
      ]
     },
     "execution_count": 361,
     "metadata": {},
     "output_type": "execute_result"
    }
   ],
   "source": [
    "bert_model"
   ]
  },
  {
   "cell_type": "code",
   "execution_count": 362,
   "id": "9a8fb432",
   "metadata": {},
   "outputs": [
    {
     "data": {
      "text/plain": [
       "30522"
      ]
     },
     "execution_count": 362,
     "metadata": {},
     "output_type": "execute_result"
    }
   ],
   "source": [
    "vocab_size = bert_model.config.vocab_size # 모델의 vocab_size\n",
    "vocab_size"
   ]
  },
  {
   "cell_type": "code",
   "execution_count": 363,
   "id": "d2f5df66",
   "metadata": {
    "scrolled": true
   },
   "outputs": [
    {
     "data": {
      "text/plain": [
       "tensor([[   0,  627, 9656,  ...,    0,    0,    0],\n",
       "        [   0,  405,   34,  ...,    0,    0,    0],\n",
       "        [   0,  179,   42,  ...,    0,    0,    0],\n",
       "        ...,\n",
       "        [   0,  463,  197,  ...,    0,    0,    0],\n",
       "        [   0,  627,  910,  ...,    0,    0,    0],\n",
       "        [   0,  102,   76,  ...,    0,    0,    0]])"
      ]
     },
     "execution_count": 363,
     "metadata": {},
     "output_type": "execute_result"
    }
   ],
   "source": [
    "vocab_size = 30500\n",
    "max_index = torch.max(input_ids)\n",
    "\n",
    "# input_ids 내의 모든 값을 어휘 크기 이하로 제한\n",
    "input_ids[input_ids > vocab_size] = vocab_size\n",
    "input_ids"
   ]
  },
  {
   "cell_type": "code",
   "execution_count": 364,
   "id": "d63acbc4",
   "metadata": {},
   "outputs": [
    {
     "data": {
      "text/plain": [
       "torch.Size([16, 118])"
      ]
     },
     "execution_count": 364,
     "metadata": {},
     "output_type": "execute_result"
    }
   ],
   "source": [
    "input_ids.shape"
   ]
  },
  {
   "cell_type": "code",
   "execution_count": 365,
   "id": "91c0be5a",
   "metadata": {},
   "outputs": [
    {
     "data": {
      "text/plain": [
       "tensor(30500)"
      ]
     },
     "execution_count": 365,
     "metadata": {},
     "output_type": "execute_result"
    }
   ],
   "source": [
    "max_index = torch.max(input_ids)\n",
    "max_index # 최댓값"
   ]
  },
  {
   "cell_type": "code",
   "execution_count": 366,
   "id": "6021f986",
   "metadata": {},
   "outputs": [],
   "source": [
    "# 모델의 출력\n",
    "with torch.no_grad():\n",
    "    all_hidden_states  = bert_model(input_ids)[0]"
   ]
  },
  {
   "cell_type": "code",
   "execution_count": 367,
   "id": "08a7347f",
   "metadata": {},
   "outputs": [],
   "source": [
    "# 각 문장 임베딩을 평균하여 문장 전체 임베딩 얻기\n",
    "bert_sentence_embeddings = torch.mean(all_hidden_states, dim=1).numpy()"
   ]
  },
  {
   "cell_type": "code",
   "execution_count": 368,
   "id": "78d68d24",
   "metadata": {},
   "outputs": [
    {
     "data": {
      "text/plain": [
       "array([[-0.262925  ,  0.15120715,  0.06920782, ..., -0.49392438,\n",
       "         0.815937  , -0.02945545],\n",
       "       [-0.30813193, -0.07224108, -0.14033984, ..., -0.54359436,\n",
       "         0.8417747 , -0.19259213],\n",
       "       [-0.15348107,  0.13347183,  0.03283592, ..., -0.5608814 ,\n",
       "         0.69439113, -0.07183864],\n",
       "       ...,\n",
       "       [-0.35193074,  0.05294407, -0.11639063, ..., -0.61349666,\n",
       "         0.7212711 , -0.14494902],\n",
       "       [-0.2989488 , -0.06234165, -0.1374794 , ..., -0.52989614,\n",
       "         0.8737767 , -0.12753004],\n",
       "       [ 0.21697433,  0.09295134,  1.134148  , ..., -0.46585512,\n",
       "         0.06917247, -0.9795131 ]], dtype=float32)"
      ]
     },
     "execution_count": 368,
     "metadata": {},
     "output_type": "execute_result"
    }
   ],
   "source": [
    "bert_sentence_embeddings"
   ]
  },
  {
   "cell_type": "code",
   "execution_count": 369,
   "id": "e6e8d504",
   "metadata": {},
   "outputs": [
    {
     "data": {
      "text/plain": [
       "(16, 768)"
      ]
     },
     "execution_count": 369,
     "metadata": {},
     "output_type": "execute_result"
    }
   ],
   "source": [
    "bert_sentence_embeddings.shape"
   ]
  },
  {
   "cell_type": "code",
   "execution_count": 370,
   "id": "6cc55919",
   "metadata": {},
   "outputs": [],
   "source": [
    "from sklearn.metrics.pairwise import cosine_similarity"
   ]
  },
  {
   "cell_type": "code",
   "execution_count": 371,
   "id": "d41d9321",
   "metadata": {},
   "outputs": [],
   "source": [
    "# 유사도 행렬 계산\n",
    "bert_similarity_matrix = cosine_similarity(bert_sentence_embeddings)"
   ]
  },
  {
   "cell_type": "code",
   "execution_count": 372,
   "id": "37fa0ee7",
   "metadata": {
    "scrolled": true
   },
   "outputs": [
    {
     "data": {
      "text/plain": [
       "array([[1.0000002 , 0.92474496, 0.95930505, 0.95105225, 0.9318465 ,\n",
       "        0.9313162 , 0.9406705 , 0.91699517, 0.9112865 , 0.915306  ,\n",
       "        0.92282295, 0.91126865, 0.8482593 , 0.9335156 , 0.93422335,\n",
       "        0.3380583 ],\n",
       "       [0.92474496, 1.        , 0.97167194, 0.9879476 , 0.9923108 ,\n",
       "        0.99228585, 0.9898343 , 0.99011457, 0.99239063, 0.992059  ,\n",
       "        0.9910587 , 0.9920529 , 0.6996031 , 0.98957676, 0.9944438 ,\n",
       "        0.30990764],\n",
       "       [0.95930505, 0.97167194, 0.99999964, 0.97645235, 0.9691844 ,\n",
       "        0.96460795, 0.97028905, 0.95599604, 0.9562422 , 0.9575167 ,\n",
       "        0.9579422 , 0.9542211 , 0.7961651 , 0.96922976, 0.9707035 ,\n",
       "        0.34518176],\n",
       "       [0.95105225, 0.9879476 , 0.97645235, 1.0000001 , 0.9903399 ,\n",
       "        0.9885352 , 0.99288654, 0.9843228 , 0.98438823, 0.9835757 ,\n",
       "        0.98628116, 0.9843755 , 0.73644364, 0.9897797 , 0.98864293,\n",
       "        0.3204363 ],\n",
       "       [0.9318465 , 0.9923108 , 0.9691844 , 0.9903399 , 1.        ,\n",
       "        0.99639773, 0.9939338 , 0.99394107, 0.99300504, 0.9937545 ,\n",
       "        0.9953975 , 0.9934788 , 0.69015336, 0.995725  , 0.98887706,\n",
       "        0.31149364],\n",
       "       [0.9313162 , 0.99228585, 0.96460795, 0.9885352 , 0.99639773,\n",
       "        0.99999964, 0.9950137 , 0.99588776, 0.9950263 , 0.99536157,\n",
       "        0.9974062 , 0.99615955, 0.6802993 , 0.99541   , 0.9888249 ,\n",
       "        0.31046262],\n",
       "       [0.9406705 , 0.9898343 , 0.97028905, 0.99288654, 0.9939338 ,\n",
       "        0.9950137 , 1.        , 0.99361336, 0.99239707, 0.9921497 ,\n",
       "        0.99328536, 0.9924592 , 0.7017001 , 0.9939074 , 0.9891869 ,\n",
       "        0.31741238],\n",
       "       [0.91699517, 0.99011457, 0.95599604, 0.9843228 , 0.99394107,\n",
       "        0.99588776, 0.99361336, 0.99999994, 0.99853647, 0.99726   ,\n",
       "        0.9969921 , 0.9986558 , 0.65794957, 0.9924853 , 0.98749566,\n",
       "        0.29873925],\n",
       "       [0.9112865 , 0.99239063, 0.9562422 , 0.98438823, 0.99300504,\n",
       "        0.9950263 , 0.99239707, 0.99853647, 1.        , 0.9973141 ,\n",
       "        0.995404  , 0.99878395, 0.6591095 , 0.9910499 , 0.9896537 ,\n",
       "        0.30109885],\n",
       "       [0.915306  , 0.992059  , 0.9575167 , 0.9835757 , 0.9937545 ,\n",
       "        0.99536157, 0.9921497 , 0.99726   , 0.9973141 , 1.        ,\n",
       "        0.995719  , 0.997691  , 0.659509  , 0.99359936, 0.9907285 ,\n",
       "        0.29965544],\n",
       "       [0.92282295, 0.9910587 , 0.9579422 , 0.98628116, 0.9953975 ,\n",
       "        0.9974062 , 0.99328536, 0.9969921 , 0.995404  , 0.995719  ,\n",
       "        1.        , 0.99705803, 0.6649778 , 0.9940964 , 0.9871468 ,\n",
       "        0.30432293],\n",
       "       [0.91126865, 0.9920529 , 0.9542211 , 0.9843755 , 0.9934788 ,\n",
       "        0.99615955, 0.9924592 , 0.9986558 , 0.99878395, 0.997691  ,\n",
       "        0.99705803, 1.        , 0.65178096, 0.99238884, 0.98793155,\n",
       "        0.29656848],\n",
       "       [0.8482593 , 0.6996031 , 0.7961651 , 0.73644364, 0.69015336,\n",
       "        0.6802993 , 0.7017001 , 0.65794957, 0.6591095 , 0.659509  ,\n",
       "        0.6649778 , 0.65178096, 0.99999994, 0.6910321 , 0.71221364,\n",
       "        0.37546578],\n",
       "       [0.9335156 , 0.98957676, 0.96922976, 0.9897797 , 0.995725  ,\n",
       "        0.99541   , 0.9939074 , 0.9924853 , 0.9910499 , 0.99359936,\n",
       "        0.9940964 , 0.99238884, 0.6910321 , 0.9999999 , 0.98779655,\n",
       "        0.31094968],\n",
       "       [0.93422335, 0.9944438 , 0.9707035 , 0.98864293, 0.98887706,\n",
       "        0.9888249 , 0.9891869 , 0.98749566, 0.9896537 , 0.9907285 ,\n",
       "        0.9871468 , 0.98793155, 0.71221364, 0.98779655, 1.0000004 ,\n",
       "        0.30887675],\n",
       "       [0.3380583 , 0.30990764, 0.34518176, 0.3204363 , 0.31149364,\n",
       "        0.31046262, 0.31741238, 0.29873925, 0.30109885, 0.29965544,\n",
       "        0.30432293, 0.29656848, 0.37546578, 0.31094968, 0.30887675,\n",
       "        0.99999976]], dtype=float32)"
      ]
     },
     "execution_count": 372,
     "metadata": {},
     "output_type": "execute_result"
    }
   ],
   "source": [
    "bert_similarity_matrix"
   ]
  },
  {
   "cell_type": "code",
   "execution_count": 392,
   "id": "9bf9c0f0",
   "metadata": {},
   "outputs": [
    {
     "data": {
      "text/plain": [
       "[(2, 0.99999964),\n",
       " (3, 0.97645235),\n",
       " (1, 0.97167194),\n",
       " (14, 0.9707035),\n",
       " (6, 0.97028905),\n",
       " (13, 0.96922976),\n",
       " (4, 0.9691844),\n",
       " (5, 0.96460795),\n",
       " (0, 0.95930505),\n",
       " (10, 0.9579422),\n",
       " (9, 0.9575167),\n",
       " (8, 0.9562422),\n",
       " (7, 0.95599604),\n",
       " (11, 0.9542211),\n",
       " (12, 0.7961651),\n",
       " (15, 0.34518176)]"
      ]
     },
     "execution_count": 392,
     "metadata": {},
     "output_type": "execute_result"
    }
   ],
   "source": [
    "# 요약 만들기, 유사도\n",
    "num_sentences = 3\n",
    "bert_summary_sentences = []\n",
    "for i in range(num_sentences):\n",
    "    sentence_scores = list(enumerate(bert_similarity_matrix[i]))\n",
    "    \n",
    "bert_sentence_scores = sorted(sentence_scores, key=lambda x: x[1], reverse=True)\n",
    "bert_sentence_scores"
   ]
  },
  {
   "cell_type": "code",
   "execution_count": 393,
   "id": "a2e14f5b",
   "metadata": {},
   "outputs": [
    {
     "name": "stdout",
     "output_type": "stream",
     "text": [
      "the order issued on august 1 by gurpreet singh deputy secretary personnel had said.to ensure that no one skipped office an attendance report was to be sent to the government the next evening.the two notifications\n"
     ]
    }
   ],
   "source": [
    "# 요약문장 표시\n",
    "bert_summary_sentences.append(processed_article[bert_sentence_scores[1][0]])\n",
    "\n",
    "bert_summary = ' '.join(bert_summary_sentences)\n",
    "print(bert_summary)  "
   ]
  },
  {
   "cell_type": "code",
   "execution_count": 394,
   "id": "fdbd34cf",
   "metadata": {},
   "outputs": [],
   "source": [
    "#ROUGE 점수\n",
    "\n",
    "def calculate_rouge(hypothesis, reference):\n",
    "    rouge = Rouge()\n",
    "    scores = rouge.get_scores(hypothesis, reference)\n",
    "    return scores"
   ]
  },
  {
   "cell_type": "code",
   "execution_count": 395,
   "id": "08ab4abc",
   "metadata": {},
   "outputs": [
    {
     "data": {
      "text/plain": [
       "'the administration of union territory daman and diu has revoked its order that made it compulsory for women to tie rakhis to their male colleagues on the occasion of rakshabandhan on august 7. the administration was forced to withdraw the decision within 24 hours of issuing the circular after it received flak from employees and was slammed on social media.'"
      ]
     },
     "execution_count": 395,
     "metadata": {},
     "output_type": "execute_result"
    }
   ],
   "source": [
    "reference_summary = \"The Administration of Union Territory Daman and Diu has revoked its order that made it compulsory for women to tie rakhis to their male colleagues on the occasion of Rakshabandhan on August 7. The administration was forced to withdraw the decision within 24 hours of issuing the circular after it received flak from employees and was slammed on social media.\"\n",
    "reference_summary = reference_summary.lower()\n",
    "reference_summary"
   ]
  },
  {
   "cell_type": "code",
   "execution_count": 396,
   "id": "961d942b",
   "metadata": {},
   "outputs": [
    {
     "name": "stdout",
     "output_type": "stream",
     "text": [
      "ROUGE Scores: [{'rouge-1': {'r': 0.15217391304347827, 'p': 0.21875, 'f': 0.17948717464825786}, 'rouge-2': {'r': 0.017241379310344827, 'p': 0.027777777777777776, 'f': 0.021276591018561483}, 'rouge-l': {'r': 0.15217391304347827, 'p': 0.21875, 'f': 0.17948717464825786}}]\n"
     ]
    }
   ],
   "source": [
    "# ROUGE 점수 계산\n",
    "bert_rouge_scores = calculate_rouge(bert_summary, reference_summary)\n",
    "print(\"ROUGE Scores:\", bert_rouge_scores)"
   ]
  },
  {
   "cell_type": "markdown",
   "id": "9e96e058",
   "metadata": {},
   "source": [
    "### GPT"
   ]
  },
  {
   "cell_type": "code",
   "execution_count": 270,
   "id": "140f9a58",
   "metadata": {},
   "outputs": [
    {
     "name": "stderr",
     "output_type": "stream",
     "text": [
      "config.json: 100%|██████████| 665/665 [00:00<00:00, 56.5kB/s]\n",
      "model.safetensors: 100%|██████████| 548M/548M [00:17<00:00, 31.0MB/s] \n",
      "vocab.json: 100%|██████████| 1.04M/1.04M [00:00<00:00, 15.6MB/s]\n",
      "merges.txt: 100%|██████████| 456k/456k [00:00<00:00, 36.7MB/s]\n",
      "tokenizer.json: 100%|██████████| 1.36M/1.36M [00:00<00:00, 1.68MB/s]\n"
     ]
    }
   ],
   "source": [
    "from transformers import GPT2Model, GPT2Tokenizer\n",
    "\n",
    "gpt_model = GPT2Model.from_pretrained('gpt2')\n",
    "gpt_tokenizer = GPT2Tokenizer.from_pretrained('gpt2')"
   ]
  },
  {
   "cell_type": "code",
   "execution_count": 273,
   "id": "44f55feb",
   "metadata": {},
   "outputs": [
    {
     "data": {
      "text/plain": [
       "GPT2Model(\n",
       "  (wte): Embedding(50257, 768)\n",
       "  (wpe): Embedding(1024, 768)\n",
       "  (drop): Dropout(p=0.1, inplace=False)\n",
       "  (h): ModuleList(\n",
       "    (0): GPT2Block(\n",
       "      (ln_1): LayerNorm((768,), eps=1e-05, elementwise_affine=True)\n",
       "      (attn): GPT2Attention(\n",
       "        (c_attn): Conv1D()\n",
       "        (c_proj): Conv1D()\n",
       "        (attn_dropout): Dropout(p=0.1, inplace=False)\n",
       "        (resid_dropout): Dropout(p=0.1, inplace=False)\n",
       "      )\n",
       "      (ln_2): LayerNorm((768,), eps=1e-05, elementwise_affine=True)\n",
       "      (mlp): GPT2MLP(\n",
       "        (c_fc): Conv1D()\n",
       "        (c_proj): Conv1D()\n",
       "        (act): NewGELUActivation()\n",
       "        (dropout): Dropout(p=0.1, inplace=False)\n",
       "      )\n",
       "    )\n",
       "    (1): GPT2Block(\n",
       "      (ln_1): LayerNorm((768,), eps=1e-05, elementwise_affine=True)\n",
       "      (attn): GPT2Attention(\n",
       "        (c_attn): Conv1D()\n",
       "        (c_proj): Conv1D()\n",
       "        (attn_dropout): Dropout(p=0.1, inplace=False)\n",
       "        (resid_dropout): Dropout(p=0.1, inplace=False)\n",
       "      )\n",
       "      (ln_2): LayerNorm((768,), eps=1e-05, elementwise_affine=True)\n",
       "      (mlp): GPT2MLP(\n",
       "        (c_fc): Conv1D()\n",
       "        (c_proj): Conv1D()\n",
       "        (act): NewGELUActivation()\n",
       "        (dropout): Dropout(p=0.1, inplace=False)\n",
       "      )\n",
       "    )\n",
       "    (2): GPT2Block(\n",
       "      (ln_1): LayerNorm((768,), eps=1e-05, elementwise_affine=True)\n",
       "      (attn): GPT2Attention(\n",
       "        (c_attn): Conv1D()\n",
       "        (c_proj): Conv1D()\n",
       "        (attn_dropout): Dropout(p=0.1, inplace=False)\n",
       "        (resid_dropout): Dropout(p=0.1, inplace=False)\n",
       "      )\n",
       "      (ln_2): LayerNorm((768,), eps=1e-05, elementwise_affine=True)\n",
       "      (mlp): GPT2MLP(\n",
       "        (c_fc): Conv1D()\n",
       "        (c_proj): Conv1D()\n",
       "        (act): NewGELUActivation()\n",
       "        (dropout): Dropout(p=0.1, inplace=False)\n",
       "      )\n",
       "    )\n",
       "    (3): GPT2Block(\n",
       "      (ln_1): LayerNorm((768,), eps=1e-05, elementwise_affine=True)\n",
       "      (attn): GPT2Attention(\n",
       "        (c_attn): Conv1D()\n",
       "        (c_proj): Conv1D()\n",
       "        (attn_dropout): Dropout(p=0.1, inplace=False)\n",
       "        (resid_dropout): Dropout(p=0.1, inplace=False)\n",
       "      )\n",
       "      (ln_2): LayerNorm((768,), eps=1e-05, elementwise_affine=True)\n",
       "      (mlp): GPT2MLP(\n",
       "        (c_fc): Conv1D()\n",
       "        (c_proj): Conv1D()\n",
       "        (act): NewGELUActivation()\n",
       "        (dropout): Dropout(p=0.1, inplace=False)\n",
       "      )\n",
       "    )\n",
       "    (4): GPT2Block(\n",
       "      (ln_1): LayerNorm((768,), eps=1e-05, elementwise_affine=True)\n",
       "      (attn): GPT2Attention(\n",
       "        (c_attn): Conv1D()\n",
       "        (c_proj): Conv1D()\n",
       "        (attn_dropout): Dropout(p=0.1, inplace=False)\n",
       "        (resid_dropout): Dropout(p=0.1, inplace=False)\n",
       "      )\n",
       "      (ln_2): LayerNorm((768,), eps=1e-05, elementwise_affine=True)\n",
       "      (mlp): GPT2MLP(\n",
       "        (c_fc): Conv1D()\n",
       "        (c_proj): Conv1D()\n",
       "        (act): NewGELUActivation()\n",
       "        (dropout): Dropout(p=0.1, inplace=False)\n",
       "      )\n",
       "    )\n",
       "    (5): GPT2Block(\n",
       "      (ln_1): LayerNorm((768,), eps=1e-05, elementwise_affine=True)\n",
       "      (attn): GPT2Attention(\n",
       "        (c_attn): Conv1D()\n",
       "        (c_proj): Conv1D()\n",
       "        (attn_dropout): Dropout(p=0.1, inplace=False)\n",
       "        (resid_dropout): Dropout(p=0.1, inplace=False)\n",
       "      )\n",
       "      (ln_2): LayerNorm((768,), eps=1e-05, elementwise_affine=True)\n",
       "      (mlp): GPT2MLP(\n",
       "        (c_fc): Conv1D()\n",
       "        (c_proj): Conv1D()\n",
       "        (act): NewGELUActivation()\n",
       "        (dropout): Dropout(p=0.1, inplace=False)\n",
       "      )\n",
       "    )\n",
       "    (6): GPT2Block(\n",
       "      (ln_1): LayerNorm((768,), eps=1e-05, elementwise_affine=True)\n",
       "      (attn): GPT2Attention(\n",
       "        (c_attn): Conv1D()\n",
       "        (c_proj): Conv1D()\n",
       "        (attn_dropout): Dropout(p=0.1, inplace=False)\n",
       "        (resid_dropout): Dropout(p=0.1, inplace=False)\n",
       "      )\n",
       "      (ln_2): LayerNorm((768,), eps=1e-05, elementwise_affine=True)\n",
       "      (mlp): GPT2MLP(\n",
       "        (c_fc): Conv1D()\n",
       "        (c_proj): Conv1D()\n",
       "        (act): NewGELUActivation()\n",
       "        (dropout): Dropout(p=0.1, inplace=False)\n",
       "      )\n",
       "    )\n",
       "    (7): GPT2Block(\n",
       "      (ln_1): LayerNorm((768,), eps=1e-05, elementwise_affine=True)\n",
       "      (attn): GPT2Attention(\n",
       "        (c_attn): Conv1D()\n",
       "        (c_proj): Conv1D()\n",
       "        (attn_dropout): Dropout(p=0.1, inplace=False)\n",
       "        (resid_dropout): Dropout(p=0.1, inplace=False)\n",
       "      )\n",
       "      (ln_2): LayerNorm((768,), eps=1e-05, elementwise_affine=True)\n",
       "      (mlp): GPT2MLP(\n",
       "        (c_fc): Conv1D()\n",
       "        (c_proj): Conv1D()\n",
       "        (act): NewGELUActivation()\n",
       "        (dropout): Dropout(p=0.1, inplace=False)\n",
       "      )\n",
       "    )\n",
       "    (8): GPT2Block(\n",
       "      (ln_1): LayerNorm((768,), eps=1e-05, elementwise_affine=True)\n",
       "      (attn): GPT2Attention(\n",
       "        (c_attn): Conv1D()\n",
       "        (c_proj): Conv1D()\n",
       "        (attn_dropout): Dropout(p=0.1, inplace=False)\n",
       "        (resid_dropout): Dropout(p=0.1, inplace=False)\n",
       "      )\n",
       "      (ln_2): LayerNorm((768,), eps=1e-05, elementwise_affine=True)\n",
       "      (mlp): GPT2MLP(\n",
       "        (c_fc): Conv1D()\n",
       "        (c_proj): Conv1D()\n",
       "        (act): NewGELUActivation()\n",
       "        (dropout): Dropout(p=0.1, inplace=False)\n",
       "      )\n",
       "    )\n",
       "    (9): GPT2Block(\n",
       "      (ln_1): LayerNorm((768,), eps=1e-05, elementwise_affine=True)\n",
       "      (attn): GPT2Attention(\n",
       "        (c_attn): Conv1D()\n",
       "        (c_proj): Conv1D()\n",
       "        (attn_dropout): Dropout(p=0.1, inplace=False)\n",
       "        (resid_dropout): Dropout(p=0.1, inplace=False)\n",
       "      )\n",
       "      (ln_2): LayerNorm((768,), eps=1e-05, elementwise_affine=True)\n",
       "      (mlp): GPT2MLP(\n",
       "        (c_fc): Conv1D()\n",
       "        (c_proj): Conv1D()\n",
       "        (act): NewGELUActivation()\n",
       "        (dropout): Dropout(p=0.1, inplace=False)\n",
       "      )\n",
       "    )\n",
       "    (10): GPT2Block(\n",
       "      (ln_1): LayerNorm((768,), eps=1e-05, elementwise_affine=True)\n",
       "      (attn): GPT2Attention(\n",
       "        (c_attn): Conv1D()\n",
       "        (c_proj): Conv1D()\n",
       "        (attn_dropout): Dropout(p=0.1, inplace=False)\n",
       "        (resid_dropout): Dropout(p=0.1, inplace=False)\n",
       "      )\n",
       "      (ln_2): LayerNorm((768,), eps=1e-05, elementwise_affine=True)\n",
       "      (mlp): GPT2MLP(\n",
       "        (c_fc): Conv1D()\n",
       "        (c_proj): Conv1D()\n",
       "        (act): NewGELUActivation()\n",
       "        (dropout): Dropout(p=0.1, inplace=False)\n",
       "      )\n",
       "    )\n",
       "    (11): GPT2Block(\n",
       "      (ln_1): LayerNorm((768,), eps=1e-05, elementwise_affine=True)\n",
       "      (attn): GPT2Attention(\n",
       "        (c_attn): Conv1D()\n",
       "        (c_proj): Conv1D()\n",
       "        (attn_dropout): Dropout(p=0.1, inplace=False)\n",
       "        (resid_dropout): Dropout(p=0.1, inplace=False)\n",
       "      )\n",
       "      (ln_2): LayerNorm((768,), eps=1e-05, elementwise_affine=True)\n",
       "      (mlp): GPT2MLP(\n",
       "        (c_fc): Conv1D()\n",
       "        (c_proj): Conv1D()\n",
       "        (act): NewGELUActivation()\n",
       "        (dropout): Dropout(p=0.1, inplace=False)\n",
       "      )\n",
       "    )\n",
       "  )\n",
       "  (ln_f): LayerNorm((768,), eps=1e-05, elementwise_affine=True)\n",
       ")"
      ]
     },
     "execution_count": 273,
     "metadata": {},
     "output_type": "execute_result"
    }
   ],
   "source": [
    "gpt_model"
   ]
  },
  {
   "cell_type": "code",
   "execution_count": 289,
   "id": "9c772ee7",
   "metadata": {},
   "outputs": [
    {
     "data": {
      "text/plain": [
       "50257"
      ]
     },
     "execution_count": 289,
     "metadata": {},
     "output_type": "execute_result"
    }
   ],
   "source": [
    "vocab_size = gpt_model.config.vocab_size # 모델의 vocab_size\n",
    "vocab_size"
   ]
  },
  {
   "cell_type": "code",
   "execution_count": 290,
   "id": "040aa165",
   "metadata": {},
   "outputs": [
    {
     "data": {
      "text/plain": [
       "tensor([[   0,  627, 9656,  ...,    0,    0,    0],\n",
       "        [   0,  405,   34,  ...,    0,    0,    0],\n",
       "        [   0,  179,   42,  ...,    0,    0,    0],\n",
       "        ...,\n",
       "        [   0,  463,  197,  ...,    0,    0,    0],\n",
       "        [   0,  627,  910,  ...,    0,    0,    0],\n",
       "        [   0,  102,   76,  ...,    0,    0,    0]])"
      ]
     },
     "execution_count": 290,
     "metadata": {},
     "output_type": "execute_result"
    }
   ],
   "source": [
    "vocab_size = 50257\n",
    "max_index = torch.max(input_ids)\n",
    "\n",
    "# input_ids 내의 모든 값을 어휘 크기 이하로 제한\n",
    "input_ids[input_ids > vocab_size] = vocab_size\n",
    "input_ids"
   ]
  },
  {
   "cell_type": "code",
   "execution_count": 291,
   "id": "f77e26a0",
   "metadata": {},
   "outputs": [
    {
     "data": {
      "text/plain": [
       "torch.Size([16, 118])"
      ]
     },
     "execution_count": 291,
     "metadata": {},
     "output_type": "execute_result"
    }
   ],
   "source": [
    "input_ids.shape"
   ]
  },
  {
   "cell_type": "code",
   "execution_count": 292,
   "id": "18717b15",
   "metadata": {},
   "outputs": [
    {
     "data": {
      "text/plain": [
       "tensor(30000)"
      ]
     },
     "execution_count": 292,
     "metadata": {},
     "output_type": "execute_result"
    }
   ],
   "source": [
    "max_index = torch.max(input_ids)\n",
    "max_index # 최댓값"
   ]
  },
  {
   "cell_type": "code",
   "execution_count": 293,
   "id": "b729458d",
   "metadata": {},
   "outputs": [],
   "source": [
    "# 모델의 출력\n",
    "with torch.no_grad():\n",
    "    all_hidden_states  = gpt_model(input_ids)[0]"
   ]
  },
  {
   "cell_type": "code",
   "execution_count": 297,
   "id": "8258e33b",
   "metadata": {},
   "outputs": [],
   "source": [
    "# 각 문장 임베딩을 평균하여 문장 전체 임베딩 얻기\n",
    "gpt_sentence_embeddings = torch.mean(all_hidden_states, dim=1).numpy()"
   ]
  },
  {
   "cell_type": "code",
   "execution_count": 298,
   "id": "6053ada9",
   "metadata": {},
   "outputs": [
    {
     "data": {
      "text/plain": [
       "array([[ 0.42899892, -0.3247693 ,  0.19022508, ..., -0.3396074 ,\n",
       "         0.17062797,  0.35829198],\n",
       "       [-0.13435397, -0.1554592 ,  0.67065907, ..., -0.65106493,\n",
       "        -0.00858835,  0.60235906],\n",
       "       [-0.03217074, -0.33315903,  0.65385824, ..., -0.53166044,\n",
       "         0.22086616,  0.4154809 ],\n",
       "       ...,\n",
       "       [-0.11947086, -0.0604829 ,  0.35208467, ..., -0.63463813,\n",
       "         0.08084037,  0.55952984],\n",
       "       [ 0.1426142 , -0.16174889,  0.5425769 , ..., -0.5027295 ,\n",
       "         0.23706818,  0.27046928],\n",
       "       [ 0.0072054 , -0.4489344 ,  0.5742182 , ..., -0.54602975,\n",
       "         0.17345917,  0.6082841 ]], dtype=float32)"
      ]
     },
     "execution_count": 298,
     "metadata": {},
     "output_type": "execute_result"
    }
   ],
   "source": [
    "gpt_sentence_embeddings"
   ]
  },
  {
   "cell_type": "code",
   "execution_count": 296,
   "id": "401b961a",
   "metadata": {},
   "outputs": [
    {
     "data": {
      "text/plain": [
       "(16, 768)"
      ]
     },
     "execution_count": 296,
     "metadata": {},
     "output_type": "execute_result"
    }
   ],
   "source": [
    "gpt_sentence_embeddings.shape"
   ]
  },
  {
   "cell_type": "code",
   "execution_count": 283,
   "id": "e50ce43f",
   "metadata": {},
   "outputs": [],
   "source": [
    "from sklearn.metrics.pairwise import cosine_similarity"
   ]
  },
  {
   "cell_type": "code",
   "execution_count": 302,
   "id": "476b9773",
   "metadata": {},
   "outputs": [],
   "source": [
    "# 유사도 행렬 계산\n",
    "gpt_similarity_matrix = cosine_similarity(gpt_sentence_embeddings)"
   ]
  },
  {
   "cell_type": "code",
   "execution_count": 346,
   "id": "13d90a88",
   "metadata": {
    "scrolled": true
   },
   "outputs": [
    {
     "data": {
      "text/plain": [
       "array([[1.0000001 , 0.8101522 , 0.9614535 , 0.9854795 , 0.7714888 ,\n",
       "        0.80390155, 0.84275997, 0.7684026 , 0.7296527 , 0.8177986 ,\n",
       "        0.722939  , 0.7646715 , 0.98207796, 0.7998913 , 0.93664646,\n",
       "        0.83389467],\n",
       "       [0.8101522 , 1.0000001 , 0.93407166, 0.8930658 , 0.9978013 ,\n",
       "        0.99977195, 0.9979865 , 0.9973528 , 0.99130106, 0.99751943,\n",
       "        0.9901617 , 0.9970695 , 0.8818018 , 0.999612  , 0.9611329 ,\n",
       "        0.9988039 ],\n",
       "       [0.9614535 , 0.93407166, 0.9999998 , 0.99305034, 0.91013896,\n",
       "        0.93054444, 0.951549  , 0.908972  , 0.8842828 , 0.94189644,\n",
       "        0.87918323, 0.90562713, 0.9761141 , 0.92731196, 0.99556315,\n",
       "        0.9482267 ],\n",
       "       [0.9854795 , 0.8930658 , 0.99305034, 0.99999964, 0.86284727,\n",
       "        0.8883541 , 0.91700935, 0.86101294, 0.8300353 , 0.90055877,\n",
       "        0.82445186, 0.85749197, 0.98825943, 0.88483906, 0.9809879 ,\n",
       "        0.911173  ],\n",
       "       [0.7714888 , 0.9978013 , 0.91013896, 0.86284727, 0.99999964,\n",
       "        0.9982228 , 0.9921088 , 0.99972165, 0.9974114 , 0.99459124,\n",
       "        0.99700344, 0.99977136, 0.8505054 , 0.99882996, 0.9419757 ,\n",
       "        0.99398804],\n",
       "       [0.80390155, 0.99977195, 0.93054444, 0.8883541 , 0.9982228 ,\n",
       "        1.        , 0.9971    , 0.9978886 , 0.9925717 , 0.9974377 ,\n",
       "        0.9914829 , 0.99769056, 0.87666184, 0.9995664 , 0.9585381 ,\n",
       "        0.99837554],\n",
       "       [0.84275997, 0.9979865 , 0.951549  , 0.91700935, 0.9921088 ,\n",
       "        0.9971    , 0.99999964, 0.9913376 , 0.98141   , 0.995427  ,\n",
       "        0.979869  , 0.99086785, 0.9084275 , 0.99679184, 0.9741852 ,\n",
       "        0.9990672 ],\n",
       "       [0.7684026 , 0.9973528 , 0.908972  , 0.86101294, 0.99972165,\n",
       "        0.9978886 , 0.9913376 , 0.9999998 , 0.9978715 , 0.994948  ,\n",
       "        0.9973992 , 0.99973834, 0.8463972 , 0.99827224, 0.9410982 ,\n",
       "        0.9932718 ],\n",
       "       [0.7296527 , 0.99130106, 0.8842828 , 0.8300353 , 0.9974114 ,\n",
       "        0.9925717 , 0.98141   , 0.9978715 , 0.9999995 , 0.988958  ,\n",
       "        0.9997704 , 0.9979744 , 0.81297237, 0.99308443, 0.9203932 ,\n",
       "        0.98513305],\n",
       "       [0.8177986 , 0.99751943, 0.94189644, 0.90055877, 0.99459124,\n",
       "        0.9974377 , 0.995427  , 0.994948  , 0.988958  , 1.0000001 ,\n",
       "        0.98723924, 0.9935435 , 0.87978303, 0.9965187 , 0.96655744,\n",
       "        0.9974584 ],\n",
       "       [0.722939  , 0.9901617 , 0.87918323, 0.82445186, 0.99700344,\n",
       "        0.9914829 , 0.979869  , 0.9973992 , 0.9997704 , 0.98723924,\n",
       "        0.9999999 , 0.9976179 , 0.8082266 , 0.9923377 , 0.91616166,\n",
       "        0.9835057 ],\n",
       "       [0.7646715 , 0.9970695 , 0.90562713, 0.85749197, 0.99977136,\n",
       "        0.99769056, 0.99086785, 0.99973834, 0.9979744 , 0.9935435 ,\n",
       "        0.9976179 , 1.0000007 , 0.8451129 , 0.9981854 , 0.9384525 ,\n",
       "        0.9927931 ],\n",
       "       [0.98207796, 0.8818018 , 0.9761141 , 0.98825943, 0.8505054 ,\n",
       "        0.87666184, 0.9084275 , 0.8463972 , 0.81297237, 0.87978303,\n",
       "        0.8082266 , 0.8451129 , 1.0000004 , 0.8743571 , 0.9655926 ,\n",
       "        0.89976954],\n",
       "       [0.7998913 , 0.999612  , 0.92731196, 0.88483906, 0.99882996,\n",
       "        0.9995664 , 0.99679184, 0.99827224, 0.99308443, 0.9965187 ,\n",
       "        0.9923377 , 0.9981854 , 0.8743571 , 0.9999999 , 0.95572287,\n",
       "        0.99775815],\n",
       "       [0.93664646, 0.9611329 , 0.99556315, 0.9809879 , 0.9419757 ,\n",
       "        0.9585381 , 0.9741852 , 0.9410982 , 0.9203932 , 0.96655744,\n",
       "        0.91616166, 0.9384525 , 0.9655926 , 0.95572287, 1.0000001 ,\n",
       "        0.9718259 ],\n",
       "       [0.83389467, 0.9988039 , 0.9482267 , 0.911173  , 0.99398804,\n",
       "        0.99837554, 0.9990672 , 0.9932718 , 0.98513305, 0.9974584 ,\n",
       "        0.9835057 , 0.9927931 , 0.89976954, 0.99775815, 0.9718259 ,\n",
       "        0.99999964]], dtype=float32)"
      ]
     },
     "execution_count": 346,
     "metadata": {},
     "output_type": "execute_result"
    }
   ],
   "source": [
    "gpt_similarity_matrix"
   ]
  },
  {
   "cell_type": "code",
   "execution_count": 388,
   "id": "b49001b2",
   "metadata": {},
   "outputs": [
    {
     "data": {
      "text/plain": [
       "[(2, 0.9999998),\n",
       " (14, 0.99556315),\n",
       " (3, 0.99305034),\n",
       " (12, 0.9761141),\n",
       " (0, 0.9614535),\n",
       " (6, 0.951549),\n",
       " (15, 0.9482267),\n",
       " (9, 0.94189644),\n",
       " (1, 0.93407166),\n",
       " (5, 0.93054444),\n",
       " (13, 0.92731196),\n",
       " (4, 0.91013896),\n",
       " (7, 0.908972),\n",
       " (11, 0.90562713),\n",
       " (8, 0.8842828),\n",
       " (10, 0.87918323)]"
      ]
     },
     "execution_count": 388,
     "metadata": {},
     "output_type": "execute_result"
    }
   ],
   "source": [
    "# 요약 만들기, 유사도\n",
    "num_sentences = 3\n",
    "gpt_summary_sentences = []\n",
    "for i in range(num_sentences):\n",
    "    sentence_scores = list(enumerate(gpt_similarity_matrix[i]))\n",
    "    \n",
    "gpt_sentence_scores = sorted(sentence_scores, key=lambda x: x[1], reverse=True)\n",
    "gpt_sentence_scores"
   ]
  },
  {
   "cell_type": "code",
   "execution_count": 389,
   "id": "4189ebe1",
   "metadata": {},
   "outputs": [
    {
     "name": "stdout",
     "output_type": "stream",
     "text": [
      "the rss is the ideological parent of the ruling bjp.last year women ministers in the modi government went to the border areas to celebrate the festival with soldiers\n"
     ]
    }
   ],
   "source": [
    "# 요약문장 표시\n",
    "gpt_summary_sentences.append(processed_article[gpt_sentence_scores[1][0]])\n",
    "\n",
    "gpt_summary = ' '.join(gpt_summary_sentences)\n",
    "print(gpt_summary)  "
   ]
  },
  {
   "cell_type": "code",
   "execution_count": 390,
   "id": "38f7d0b4",
   "metadata": {},
   "outputs": [],
   "source": [
    "reference_summary = \"The Administration of Union Territory Daman and Diu has revoked its order that made it compulsory for women to tie rakhis to their male colleagues on the occasion of Rakshabandhan on August 7. The administration was forced to withdraw the decision within 24 hours of issuing the circular after it received flak from employees and was slammed on social media.\"\n",
    "reference_summary = reference_summary.lower()\n"
   ]
  },
  {
   "cell_type": "code",
   "execution_count": null,
   "id": "9a376da1",
   "metadata": {},
   "outputs": [],
   "source": []
  },
  {
   "cell_type": "code",
   "execution_count": 391,
   "id": "bab14d13",
   "metadata": {},
   "outputs": [
    {
     "name": "stdout",
     "output_type": "stream",
     "text": [
      "ROUGE Scores: [{'rouge-1': {'r': 0.08695652173913043, 'p': 0.17391304347826086, 'f': 0.11594202454106296}, 'rouge-2': {'r': 0.0, 'p': 0.0, 'f': 0.0}, 'rouge-l': {'r': 0.08695652173913043, 'p': 0.17391304347826086, 'f': 0.11594202454106296}}]\n"
     ]
    }
   ],
   "source": [
    "# ROUGE 점수 계산\n",
    "gpt_rouge_scores = calculate_rouge(gpt_summary, reference_summary)\n",
    "print(\"ROUGE Scores:\", gpt_rouge_scores)"
   ]
  },
  {
   "cell_type": "markdown",
   "id": "b3026c02",
   "metadata": {},
   "source": [
    "### BERT 결과와 비교"
   ]
  },
  {
   "attachments": {
    "image-2.png": {
     "image/png": "[encoded data removed]"
    }
   },
   "cell_type": "markdown",
   "id": "3b7b8b82",
   "metadata": {},
   "source": [
    "![image-2.png](attachment:image-2.png)"
   ]
  },
  {
   "cell_type": "code",
   "execution_count": null,
   "id": "41419525",
   "metadata": {},
   "outputs": [],
   "source": []
  }
 ],
 "metadata": {
  "kernelspec": {
   "display_name": "Python 3 (ipykernel)",
   "language": "python",
   "name": "python3"
  },
  "language_info": {
   "codemirror_mode": {
    "name": "ipython",
    "version": 3
   },
   "file_extension": ".py",
   "mimetype": "text/x-python",
   "name": "python",
   "nbconvert_exporter": "python",
   "pygments_lexer": "ipython3",
   "version": "3.8.14"
  }
 },
 "nbformat": 4,
 "nbformat_minor": 5
}
