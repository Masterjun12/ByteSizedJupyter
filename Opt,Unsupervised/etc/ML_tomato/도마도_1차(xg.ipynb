{
 "cells": [
  {
   "cell_type": "code",
   "execution_count": 16,
   "id": "2b48b6ae",
   "metadata": {},
   "outputs": [],
   "source": [
    "import pandas as pd\n",
    "import numpy as np\n",
    "import matplotlib.pyplot as plt\n",
    "import seaborn as sns\n",
    "from sklearn.model_selection import train_test_split\n",
    "from sklearn.ensemble import RandomForestRegressor\n",
    "import xgboost as xgb\n",
    "from sklearn.metrics import mean_squared_error\n",
    "from sklearn.metrics import r2_score"
   ]
  },
  {
   "cell_type": "code",
   "execution_count": 24,
   "id": "a602cf17",
   "metadata": {},
   "outputs": [
    {
     "name": "stdout",
     "output_type": "stream",
     "text": [
      "    frmDist      date  inTp  inHd  otmsuplyqy  acSlrdQy  cunt   ph  outTp  \\\n",
      "0  DBSF1059  20220926   0.0   0.0         0.0       0.0   0.0  0.0    0.0   \n",
      "1  DBSF1059  20221001   0.0   0.0         0.0       0.0   0.0  0.0    0.0   \n",
      "2  DBSF1059  20221002   0.0   0.0         0.0       0.0   0.0  0.0    0.0   \n",
      "3  DBSF1059  20221003   0.0   0.0         0.0       0.0   0.0  0.0    0.0   \n",
      "4  DBSF1059  20221004   0.0   0.0         0.0       0.0   0.0  0.0    0.0   \n",
      "\n",
      "   outWs  ...  outtrn_cumsum   WaterUsage   WaterCost  FertilizerUsage  \\\n",
      "0    0.0  ...            0.0     0.000000    0.000000         0.000000   \n",
      "1    0.0  ...            0.0  1347.554178  202.133127      4711.308821   \n",
      "2    0.0  ...            0.0    69.899353   10.484903       271.379890   \n",
      "3    0.0  ...            0.0   412.225065   61.833760      1539.505534   \n",
      "4    0.0  ...            0.0   590.608634   88.591295      2614.973165   \n",
      "\n",
      "   FertilizerCost     CO2Usage    CO2Cost  MistUsageTime    Mist Cost  \\\n",
      "0        0.000000     0.000000     0.0000       0.000000     0.000000   \n",
      "1     5936.249114     0.000000     0.0000     190.168990  2221.173803   \n",
      "2      341.938662     0.000000     0.0000       0.000000     0.000000   \n",
      "3     1939.776973   253.744916   149.7095       0.000000     0.000000   \n",
      "4     3294.866187  3032.885084  1789.4022       1.149739    13.428955   \n",
      "\n",
      "   HeatingEnergyUsage_cumsum  \n",
      "0                        0.0  \n",
      "1                        0.0  \n",
      "2                        0.0  \n",
      "3                        0.0  \n",
      "4                        0.0  \n",
      "\n",
      "[5 rows x 47 columns]\n"
     ]
    },
    {
     "data": {
      "text/plain": [
       "(84840, 47)"
      ]
     },
     "execution_count": 24,
     "metadata": {},
     "output_type": "execute_result"
    }
   ],
   "source": [
    "### input ###\n",
    "\n",
    "input_data = pd.read_csv('2023_smartFarm_AI_hackathon_dataset.csv')\n",
    "\n",
    "print(input_data.head())\n",
    "input_data.shape"
   ]
  },
  {
   "cell_type": "code",
   "execution_count": 25,
   "id": "f7839c5c",
   "metadata": {},
   "outputs": [
    {
     "name": "stdout",
     "output_type": "stream",
     "text": [
      "  frmDist      date  inTp  inHd  otmsuplyqy  acSlrdQy  cunt   ph  outTp  \\\n",
      "0    1059  20220926   0.0   0.0         0.0       0.0   0.0  0.0    0.0   \n",
      "1    1059  20221001   0.0   0.0         0.0       0.0   0.0  0.0    0.0   \n",
      "2    1059  20221002   0.0   0.0         0.0       0.0   0.0  0.0    0.0   \n",
      "3    1059  20221003   0.0   0.0         0.0       0.0   0.0  0.0    0.0   \n",
      "4    1059  20221004   0.0   0.0         0.0       0.0   0.0  0.0    0.0   \n",
      "\n",
      "   outWs  ...  outtrn_cumsum   WaterUsage   WaterCost  FertilizerUsage  \\\n",
      "0    0.0  ...            0.0     0.000000    0.000000         0.000000   \n",
      "1    0.0  ...            0.0  1347.554178  202.133127      4711.308821   \n",
      "2    0.0  ...            0.0    69.899353   10.484903       271.379890   \n",
      "3    0.0  ...            0.0   412.225065   61.833760      1539.505534   \n",
      "4    0.0  ...            0.0   590.608634   88.591295      2614.973165   \n",
      "\n",
      "   FertilizerCost     CO2Usage    CO2Cost  MistUsageTime    Mist Cost  \\\n",
      "0        0.000000     0.000000     0.0000       0.000000     0.000000   \n",
      "1     5936.249114     0.000000     0.0000     190.168990  2221.173803   \n",
      "2      341.938662     0.000000     0.0000       0.000000     0.000000   \n",
      "3     1939.776973   253.744916   149.7095       0.000000     0.000000   \n",
      "4     3294.866187  3032.885084  1789.4022       1.149739    13.428955   \n",
      "\n",
      "   HeatingEnergyUsage_cumsum  \n",
      "0                        0.0  \n",
      "1                        0.0  \n",
      "2                        0.0  \n",
      "3                        0.0  \n",
      "4                        0.0  \n",
      "\n",
      "[5 rows x 47 columns]\n"
     ]
    },
    {
     "data": {
      "text/plain": [
       "(84840, 47)"
      ]
     },
     "execution_count": 25,
     "metadata": {},
     "output_type": "execute_result"
    }
   ],
   "source": [
    "input_data[\"frmDist\"] = input_data[\"frmDist\"].str[-4:] # frmDist 컬럼 str문자 삭제\n",
    "print(input_data.head())\n",
    "input_data.shape"
   ]
  },
  {
   "cell_type": "code",
   "execution_count": 26,
   "id": "a1176b2f",
   "metadata": {},
   "outputs": [
    {
     "name": "stdout",
     "output_type": "stream",
     "text": [
      "       date  inTp  inHd  otmsuplyqy  acSlrdQy  cunt   ph  outTp  outWs  \\\n",
      "0  20220926   0.0   0.0         0.0       0.0   0.0  0.0    0.0    0.0   \n",
      "1  20221001   0.0   0.0         0.0       0.0   0.0  0.0    0.0    0.0   \n",
      "2  20221002   0.0   0.0         0.0       0.0   0.0  0.0    0.0    0.0   \n",
      "3  20221003   0.0   0.0         0.0       0.0   0.0  0.0    0.0    0.0   \n",
      "4  20221004   0.0   0.0         0.0       0.0   0.0  0.0    0.0    0.0   \n",
      "\n",
      "   daysuplyqy  ...  frmDist_9761  frmDist_9777  frmDist_9793  frmDist_9838  \\\n",
      "0         0.0  ...             0             0             0             0   \n",
      "1         0.0  ...             0             0             0             0   \n",
      "2         0.0  ...             0             0             0             0   \n",
      "3         0.0  ...             0             0             0             0   \n",
      "4         0.0  ...             0             0             0             0   \n",
      "\n",
      "   frmDist_9894  frmDist_9922  frmDist_9942  frmDist_9948  frmDist_9961  \\\n",
      "0             0             0             0             0             0   \n",
      "1             0             0             0             0             0   \n",
      "2             0             0             0             0             0   \n",
      "3             0             0             0             0             0   \n",
      "4             0             0             0             0             0   \n",
      "\n",
      "   frmDist_9969  \n",
      "0             0  \n",
      "1             0  \n",
      "2             0  \n",
      "3             0  \n",
      "4             0  \n",
      "\n",
      "[5 rows x 406 columns]\n"
     ]
    },
    {
     "data": {
      "text/plain": [
       "(84840, 406)"
      ]
     },
     "execution_count": 26,
     "metadata": {},
     "output_type": "execute_result"
    }
   ],
   "source": [
    "input_data = pd.get_dummies(input_data, columns=[\"frmDist\"]) # 인코딩\n",
    "print(input_data.head())\n",
    "input_data.shape"
   ]
  },
  {
   "cell_type": "code",
   "execution_count": 27,
   "id": "92833643",
   "metadata": {},
   "outputs": [],
   "source": [
    "X = input_data.drop(['outtrn_cumsum', 'HeatingEnergyUsage_cumsum'], axis=1)\n",
    "y = input_data[['outtrn_cumsum', 'HeatingEnergyUsage_cumsum']]\n",
    "\n",
    "X_train, X_test, y_train, y_test = train_test_split(X, y, test_size=0.2, random_state=42) # 데이터 스플릿"
   ]
  },
  {
   "cell_type": "code",
   "execution_count": 28,
   "id": "2ee12df6",
   "metadata": {},
   "outputs": [
    {
     "name": "stdout",
     "output_type": "stream",
     "text": [
      "RMSE: 57214.45201949978\n",
      "R2: 0.9364296255028436\n"
     ]
    }
   ],
   "source": [
    "# XGBoost 회귀 모델 생성\n",
    "model = xgb.XGBRegressor(objective='reg:squarederror')  # 'reg:squarederror'는 회귀 문제용 목적 함수\n",
    "\n",
    "model.fit(X_train, y_train)\n",
    "\n",
    "y_pred = model.predict(X_test)\n",
    "\n",
    "rmse = np.sqrt(mean_squared_error(y_test, y_pred))\n",
    "r2 = r2_score(y_test, y_pred)\n",
    "\n",
    "### output ###\n",
    "print(f\"RMSE:\", rmse)\n",
    "print(f\"R2:\", r2)"
   ]
  },
  {
   "cell_type": "code",
   "execution_count": 14,
   "id": "0d34b78b",
   "metadata": {},
   "outputs": [
    {
     "name": "stdout",
     "output_type": "stream",
     "text": [
      "RMSE: 57214.45201949978\n",
      "R2: 0.9364296255028436\n"
     ]
    }
   ],
   "source": [
    "### output ###\n",
    "print(f\"RMSE:\", rmse)\n",
    "print(f\"R2:\", r2)"
   ]
  },
  {
   "cell_type": "code",
   "execution_count": null,
   "id": "f60754c6",
   "metadata": {},
   "outputs": [],
   "source": []
  }
 ],
 "metadata": {
  "kernelspec": {
   "display_name": "Python 3 (ipykernel)",
   "language": "python",
   "name": "python3"
  },
  "language_info": {
   "codemirror_mode": {
    "name": "ipython",
    "version": 3
   },
   "file_extension": ".py",
   "mimetype": "text/x-python",
   "name": "python",
   "nbconvert_exporter": "python",
   "pygments_lexer": "ipython3",
   "version": "3.8.14"
  }
 },
 "nbformat": 4,
 "nbformat_minor": 5
}
