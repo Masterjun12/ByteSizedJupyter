{
 "cells": [
  {
   "cell_type": "code",
   "execution_count": 2,
   "id": "bf112f6c",
   "metadata": {},
   "outputs": [
    {
     "name": "stdout",
     "output_type": "stream",
     "text": [
      "RMSE: 57214.45201949978\n",
      "R2_score: 0.9364296255028436\n"
     ]
    }
   ],
   "source": [
    "###  INPUT ###\n",
    "\n",
    "import pandas as pd\n",
    "import numpy as np\n",
    "import matplotlib.pyplot as plt\n",
    "import seaborn as sns\n",
    "from sklearn.model_selection import train_test_split\n",
    "from sklearn.ensemble import RandomForestRegressor\n",
    "import xgboost as xgb\n",
    "from sklearn.metrics import mean_squared_error\n",
    "from sklearn.metrics import r2_score\n",
    "\n",
    "input_data = pd.read_csv(\"2023_smartFarm_AI_hackathon_dataset.csv\")\n",
    "input_data[\"frmDist\"] = input_data[\"frmDist\"].str[-4:] # frmDist 컬럼 str문자 삭제\n",
    "\n",
    "input_data.shape\n",
    "input_data = pd.get_dummies(input_data, columns=[\"frmDist\"]) # 인코딩\n",
    "\n",
    "input_data.shape\n",
    "X = input_data.drop(['outtrn_cumsum', 'HeatingEnergyUsage_cumsum'], axis=1)\n",
    "y = input_data[['outtrn_cumsum', 'HeatingEnergyUsage_cumsum']]\n",
    "\n",
    "X_train, X_test, y_train, y_test = train_test_split(X, y, test_size=0.2, random_state=42) # 데이터 스플릿\n",
    "\n",
    "# XGBoost 회귀 모델 생성\n",
    "model = xgb.XGBRegressor(objective='reg:squarederror')  # 'reg:squarederror'는 회귀 문제용 목적 함수\n",
    "\n",
    "model.fit(X_train, y_train)\n",
    "\n",
    "y_pred = model.predict(X_test)\n",
    "\n",
    "rmse = np.sqrt(mean_squared_error(y_test, y_pred))\n",
    "r2score = r2_score(y_test, y_pred)\n",
    "\n",
    "### OUTPUT ###\n",
    "print(\"RMSE:\", rmse)\n",
    "print(\"R2_score:\", r2score)"
   ]
  },
  {
   "cell_type": "code",
   "execution_count": null,
   "id": "b5f96ab4",
   "metadata": {},
   "outputs": [],
   "source": []
  }
 ],
 "metadata": {
  "kernelspec": {
   "display_name": "Python 3 (ipykernel)",
   "language": "python",
   "name": "python3"
  },
  "language_info": {
   "codemirror_mode": {
    "name": "ipython",
    "version": 3
   },
   "file_extension": ".py",
   "mimetype": "text/x-python",
   "name": "python",
   "nbconvert_exporter": "python",
   "pygments_lexer": "ipython3",
   "version": "3.8.14"
  }
 },
 "nbformat": 4,
 "nbformat_minor": 5
}
