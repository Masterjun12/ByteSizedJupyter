{
 "cells": [
  {
   "cell_type": "code",
   "execution_count": 2,
   "id": "93406826",
   "metadata": {},
   "outputs": [],
   "source": [
    "import pandas as pd\n",
    "import numpy as np\n",
    "import matplotlib.pyplot as plt\n",
    "from sklearn.model_selection import train_test_split\n",
    "from sklearn.metrics import mean_squared_error, r2_score\n",
    "import torch\n",
    "import torch.nn as nn\n",
    "import torch.optim as optim"
   ]
  },
  {
   "cell_type": "code",
   "execution_count": 3,
   "id": "6d797339",
   "metadata": {},
   "outputs": [
    {
     "name": "stdout",
     "output_type": "stream",
     "text": [
      "    frmDist      date  inTp  inHd  otmsuplyqy  acSlrdQy  cunt   ph  outTp  \\\n",
      "0  DBSF1059  20220926   0.0   0.0         0.0       0.0   0.0  0.0    0.0   \n",
      "1  DBSF1059  20221001   0.0   0.0         0.0       0.0   0.0  0.0    0.0   \n",
      "2  DBSF1059  20221002   0.0   0.0         0.0       0.0   0.0  0.0    0.0   \n",
      "3  DBSF1059  20221003   0.0   0.0         0.0       0.0   0.0  0.0    0.0   \n",
      "4  DBSF1059  20221004   0.0   0.0         0.0       0.0   0.0  0.0    0.0   \n",
      "\n",
      "   outWs  ...  outtrn_cumsum   WaterUsage   WaterCost  FertilizerUsage  \\\n",
      "0    0.0  ...            0.0     0.000000    0.000000         0.000000   \n",
      "1    0.0  ...            0.0  1347.554178  202.133127      4711.308821   \n",
      "2    0.0  ...            0.0    69.899353   10.484903       271.379890   \n",
      "3    0.0  ...            0.0   412.225065   61.833760      1539.505534   \n",
      "4    0.0  ...            0.0   590.608634   88.591295      2614.973165   \n",
      "\n",
      "   FertilizerCost     CO2Usage    CO2Cost  MistUsageTime    Mist Cost  \\\n",
      "0        0.000000     0.000000     0.0000       0.000000     0.000000   \n",
      "1     5936.249114     0.000000     0.0000     190.168990  2221.173803   \n",
      "2      341.938662     0.000000     0.0000       0.000000     0.000000   \n",
      "3     1939.776973   253.744916   149.7095       0.000000     0.000000   \n",
      "4     3294.866187  3032.885084  1789.4022       1.149739    13.428955   \n",
      "\n",
      "   HeatingEnergyUsage_cumsum  \n",
      "0                        0.0  \n",
      "1                        0.0  \n",
      "2                        0.0  \n",
      "3                        0.0  \n",
      "4                        0.0  \n",
      "\n",
      "[5 rows x 47 columns]\n"
     ]
    }
   ],
   "source": [
    "### input ###\n",
    "\n",
    "input_data = pd.read_csv('2023_smartFarm_AI_hackathon_dataset.csv')\n",
    "\n",
    "print(input_data.head())"
   ]
  },
  {
   "cell_type": "code",
   "execution_count": 15,
   "id": "6709a259",
   "metadata": {},
   "outputs": [
    {
     "name": "stdout",
     "output_type": "stream",
     "text": [
      "  frmDist      date  inTp  inHd  otmsuplyqy  acSlrdQy  cunt   ph  outTp  \\\n",
      "0    1059  20220926   0.0   0.0         0.0       0.0   0.0  0.0    0.0   \n",
      "1    1059  20221001   0.0   0.0         0.0       0.0   0.0  0.0    0.0   \n",
      "2    1059  20221002   0.0   0.0         0.0       0.0   0.0  0.0    0.0   \n",
      "3    1059  20221003   0.0   0.0         0.0       0.0   0.0  0.0    0.0   \n",
      "4    1059  20221004   0.0   0.0         0.0       0.0   0.0  0.0    0.0   \n",
      "\n",
      "   outWs  ...  outtrn_cumsum   WaterUsage   WaterCost  FertilizerUsage  \\\n",
      "0    0.0  ...            0.0     0.000000    0.000000         0.000000   \n",
      "1    0.0  ...            0.0  1347.554178  202.133127      4711.308821   \n",
      "2    0.0  ...            0.0    69.899353   10.484903       271.379890   \n",
      "3    0.0  ...            0.0   412.225065   61.833760      1539.505534   \n",
      "4    0.0  ...            0.0   590.608634   88.591295      2614.973165   \n",
      "\n",
      "   FertilizerCost     CO2Usage    CO2Cost  MistUsageTime    Mist Cost  \\\n",
      "0        0.000000     0.000000     0.0000       0.000000     0.000000   \n",
      "1     5936.249114     0.000000     0.0000     190.168990  2221.173803   \n",
      "2      341.938662     0.000000     0.0000       0.000000     0.000000   \n",
      "3     1939.776973   253.744916   149.7095       0.000000     0.000000   \n",
      "4     3294.866187  3032.885084  1789.4022       1.149739    13.428955   \n",
      "\n",
      "   HeatingEnergyUsage_cumsum  \n",
      "0                        0.0  \n",
      "1                        0.0  \n",
      "2                        0.0  \n",
      "3                        0.0  \n",
      "4                        0.0  \n",
      "\n",
      "[5 rows x 47 columns]\n"
     ]
    }
   ],
   "source": [
    "input_data[\"frmDist\"] = input_data[\"frmDist\"].str[-4:] # frmDist 컬럼 str문자 삭제\n",
    "pd.get_dummies(input_data, columns=[\"frmDist\"])\n",
    "print(input_data.head())"
   ]
  },
  {
   "cell_type": "code",
   "execution_count": 16,
   "id": "095e00e3",
   "metadata": {},
   "outputs": [],
   "source": [
    "X = input_data.drop(['outtrn_cumsum', 'HeatingEnergyUsage_cumsum'], axis=1)\n",
    "y = input_data[['outtrn_cumsum', 'HeatingEnergyUsage_cumsum']]\n",
    "\n",
    "X_train, X_test, y_train, y_test = train_test_split(X, y, test_size=0.2, random_state=42) # 데이터 스플릿"
   ]
  },
  {
   "cell_type": "code",
   "execution_count": 18,
   "id": "4ad1c6e4",
   "metadata": {},
   "outputs": [],
   "source": [
    "# 숫자가 아닌 열을 삭제하고 전체 데이터를 NumPy 배열로 변환\n",
    "X_train = X_train.select_dtypes(include=['float64', 'int64'])\n",
    "y_train = y_train.select_dtypes(include=['float64', 'int64'])\n",
    "\n",
    "X_train_numpy = X_train.to_numpy()\n",
    "y_train_numpy = y_train.to_numpy()"
   ]
  },
  {
   "cell_type": "code",
   "execution_count": 19,
   "id": "12114e9c",
   "metadata": {},
   "outputs": [],
   "source": [
    "# NumPy 배열을 Tensor로 변환\n",
    "X_train_tensor = torch.Tensor(X_train_numpy).float()\n",
    "y_train_tensor = torch.Tensor(y_train_numpy).float()"
   ]
  },
  {
   "cell_type": "code",
   "execution_count": null,
   "id": "196677a8",
   "metadata": {},
   "outputs": [
    {
     "name": "stdout",
     "output_type": "stream",
     "text": [
      "Epoch [100/1000], Loss: 113651168810.8546\n"
     ]
    }
   ],
   "source": [
    "class NeuralNet(nn.Module):\n",
    "    def __init__(self, input_size, hidden_size, output_size, dropout_rate):\n",
    "        super(NeuralNet, self).__init__()\n",
    "        self.fc1 = nn.Linear(input_size, hidden_size)\n",
    "        self.relu1 = nn.ReLU()\n",
    "        self.dropout = nn.Dropout(dropout_rate)\n",
    "        self.fc2 = nn.Linear(hidden_size, output_size)\n",
    "\n",
    "    def forward(self, x):\n",
    "        out = self.fc1(x)\n",
    "        out = self.relu1(out)\n",
    "        out = self.dropout(out)\n",
    "        out = self.fc2(out)\n",
    "        return out\n",
    "\n",
    "# Hyperparameters\n",
    "CFG = {'BATCH_SIZE': 300,\n",
    "       'EPOCHS': 1000,\n",
    "       'INPUT_SIZE': 44,  # 입력 데이터의 특성 수에 맞게 설정\n",
    "       'HIDDEN_SIZE': 512,\n",
    "       'OUTPUT_SIZE': 2,\n",
    "       'DROPOUT_RATE': 0.8,\n",
    "       'LEARNING_RATE': 0.002}\n",
    "\n",
    "model = NeuralNet(CFG['INPUT_SIZE'], CFG['HIDDEN_SIZE'], CFG['OUTPUT_SIZE'], CFG['DROPOUT_RATE'])\n",
    "criterion = nn.MSELoss()\n",
    "optimizer = optim.Adam(model.parameters(), lr=CFG['LEARNING_RATE'])\n",
    "\n",
    "# TensorDataset 생성\n",
    "train_data = torch.utils.data.TensorDataset(torch.Tensor(X_train.values).float(), torch.Tensor(y_train.values).float())\n",
    "train_loader = torch.utils.data.DataLoader(train_data, batch_size=CFG['BATCH_SIZE'], shuffle=True)\n",
    "y_train_tensor = torch.Tensor(y_train_numpy[:, 0]).float()\n",
    "\n",
    "for epoch in range(CFG['EPOCHS']):\n",
    "    for inputs, targets in train_loader:\n",
    "        optimizer.zero_grad()\n",
    "        outputs = model(inputs)\n",
    "        loss = criterion(outputs.squeeze(), targets)  # squeeze() 출력 크기 조정\n",
    "        loss.backward()\n",
    "        optimizer.step()\n",
    "    total_loss = 0.0\n",
    "    for inputs, targets in train_loader:\n",
    "        optimizer.zero_grad()\n",
    "        outputs = model(inputs)\n",
    "        loss = criterion(outputs.squeeze(), targets)\n",
    "        loss.backward()\n",
    "        optimizer.step()\n",
    "        total_loss += loss.item()  # 배치 로스를 누적\n",
    "\n",
    "    if (epoch + 1) % 100 == 0:\n",
    "        average_loss = total_loss / len(train_loader) # 로스평균\n",
    "        print(f\"Epoch [{epoch+1}/{CFG['EPOCHS']}], Loss: {average_loss:.4f}\") #로스 출력\n",
    "\n",
    "with torch.no_grad():\n",
    "    test_inputs = torch.Tensor(X_test.astype('float32').to_numpy())\n",
    "    predicted = model(test_inputs).numpy()\n",
    "\n",
    "rmse = np.sqrt(mean_squared_error(y_test, predicted))\n",
    "r2score = r2_score(y_test, predicted)"
   ]
  },
  {
   "cell_type": "code",
   "execution_count": 35,
   "id": "4bfc5a3e",
   "metadata": {},
   "outputs": [
    {
     "name": "stdout",
     "output_type": "stream",
     "text": [
      "RMSE: 315237.4655710469\n",
      "R2: -0.00815990642347525\n"
     ]
    }
   ],
   "source": [
    "### output ###\n",
    "print(f\"RMSE:\", rmse)\n",
    "print(f\"R2:\", r2score)"
   ]
  },
  {
   "cell_type": "code",
   "execution_count": null,
   "id": "cb2f61de",
   "metadata": {},
   "outputs": [],
   "source": []
  }
 ],
 "metadata": {
  "kernelspec": {
   "display_name": "Python 3 (ipykernel)",
   "language": "python",
   "name": "python3"
  },
  "language_info": {
   "codemirror_mode": {
    "name": "ipython",
    "version": 3
   },
   "file_extension": ".py",
   "mimetype": "text/x-python",
   "name": "python",
   "nbconvert_exporter": "python",
   "pygments_lexer": "ipython3",
   "version": "3.8.14"
  }
 },
 "nbformat": 4,
 "nbformat_minor": 5
}
